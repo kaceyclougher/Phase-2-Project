{
 "cells": [
  {
   "cell_type": "markdown",
   "metadata": {},
   "source": [
    "# KC Analysis"
   ]
  },
  {
   "cell_type": "markdown",
   "metadata": {},
   "source": [
    "1. Reg data import/cleaning\n",
    "2. Month, Season x ROI\n",
    "3. Statistical Significance with ANOVA\n",
    "4. Runtime\n",
    "5. Distributions\n",
    "6. Stats by Movie Budget - Month/Season\n",
    "7. Popularity/ROI"
   ]
  },
  {
   "cell_type": "markdown",
   "metadata": {},
   "source": [
    "## Reg data import/cleaning"
   ]
  },
  {
   "cell_type": "code",
   "execution_count": 3,
   "metadata": {},
   "outputs": [],
   "source": [
    "import pandas as pd\n",
    "import numpy as np\n",
    "import matplotlib.pyplot as plt\n",
    "import seaborn as sns\n",
    "import scipy.stats as stats\n",
    "\n",
    "sns.set_palette(\"mako\")\n",
    "\n",
    "#import sqlite3\n",
    "#conn = sqlite3.connect(‘.db’)\n",
    "#cursor = conn.cursor()"
   ]
  },
  {
   "cell_type": "code",
   "execution_count": 5,
   "metadata": {},
   "outputs": [],
   "source": [
    "df = pd.read_csv('final.csv')\n",
    "\n",
    "#drop dupes\n",
    "df.drop_duplicates(subset = 'title', keep = 'first', inplace = True)"
   ]
  },
  {
   "cell_type": "code",
   "execution_count": 3,
   "metadata": {},
   "outputs": [],
   "source": [
    "df = df.dropna(subset = ['genre'])"
   ]
  },
  {
   "cell_type": "code",
   "execution_count": 4,
   "metadata": {},
   "outputs": [
    {
     "data": {
      "text/plain": [
       "0"
      ]
     },
     "execution_count": 4,
     "metadata": {},
     "output_type": "execute_result"
    }
   ],
   "source": [
    "df['genre'].isna().sum()"
   ]
  },
  {
   "cell_type": "code",
   "execution_count": 5,
   "metadata": {},
   "outputs": [
    {
     "data": {
      "text/plain": [
       "(2385, 15)"
      ]
     },
     "execution_count": 5,
     "metadata": {},
     "output_type": "execute_result"
    }
   ],
   "source": [
    "df.shape"
   ]
  },
  {
   "cell_type": "code",
   "execution_count": 6,
   "metadata": {
    "scrolled": true
   },
   "outputs": [
    {
     "name": "stdout",
     "output_type": "stream",
     "text": [
      "<class 'pandas.core.frame.DataFrame'>\n",
      "Int64Index: 2385 entries, 0 to 2454\n",
      "Data columns (total 15 columns):\n",
      " #   Column             Non-Null Count  Dtype  \n",
      "---  ------             --------------  -----  \n",
      " 0   Unnamed: 0         2385 non-null   int64  \n",
      " 1   title              2385 non-null   object \n",
      " 2   runtime            1997 non-null   float64\n",
      " 3   primary_name       2137 non-null   object \n",
      " 4   studio             1183 non-null   object \n",
      " 5   popularity         1913 non-null   float64\n",
      " 6   vote_average       1913 non-null   float64\n",
      " 7   vote_count         1913 non-null   float64\n",
      " 8   release_date       2385 non-null   object \n",
      " 9   production_budget  2385 non-null   float64\n",
      " 10  worldwide_gross    2385 non-null   float64\n",
      " 11  month              2385 non-null   float64\n",
      " 12  year               2385 non-null   float64\n",
      " 13  roi                2385 non-null   float64\n",
      " 14  genre              2385 non-null   object \n",
      "dtypes: float64(9), int64(1), object(5)\n",
      "memory usage: 298.1+ KB\n"
     ]
    }
   ],
   "source": [
    "#initial\n",
    "df.head()\n",
    "df.shape\n",
    "df.info()"
   ]
  },
  {
   "cell_type": "code",
   "execution_count": 104,
   "metadata": {},
   "outputs": [
    {
     "data": {
      "text/html": [
       "<div>\n",
       "<style scoped>\n",
       "    .dataframe tbody tr th:only-of-type {\n",
       "        vertical-align: middle;\n",
       "    }\n",
       "\n",
       "    .dataframe tbody tr th {\n",
       "        vertical-align: top;\n",
       "    }\n",
       "\n",
       "    .dataframe thead th {\n",
       "        text-align: right;\n",
       "    }\n",
       "</style>\n",
       "<table border=\"1\" class=\"dataframe\">\n",
       "  <thead>\n",
       "    <tr style=\"text-align: right;\">\n",
       "      <th></th>\n",
       "      <th>Unnamed: 0</th>\n",
       "      <th>title</th>\n",
       "      <th>runtime</th>\n",
       "      <th>primary_name</th>\n",
       "      <th>studio</th>\n",
       "      <th>popularity</th>\n",
       "      <th>vote_average</th>\n",
       "      <th>vote_count</th>\n",
       "      <th>release_date</th>\n",
       "      <th>production_budget</th>\n",
       "      <th>worldwide_gross</th>\n",
       "      <th>month</th>\n",
       "      <th>year</th>\n",
       "      <th>roi</th>\n",
       "      <th>genre</th>\n",
       "    </tr>\n",
       "  </thead>\n",
       "  <tbody>\n",
       "    <tr>\n",
       "      <th>0</th>\n",
       "      <td>19</td>\n",
       "      <td>Foodfight!</td>\n",
       "      <td>91.0</td>\n",
       "      <td>Lawrence Kasanoff</td>\n",
       "      <td>NaN</td>\n",
       "      <td>4.705</td>\n",
       "      <td>2.1</td>\n",
       "      <td>46.0</td>\n",
       "      <td>Dec 31, 2012</td>\n",
       "      <td>45000000.0</td>\n",
       "      <td>73706.0</td>\n",
       "      <td>12.0</td>\n",
       "      <td>2012.0</td>\n",
       "      <td>-0.998362</td>\n",
       "      <td>Comedy Animation Action Family</td>\n",
       "    </tr>\n",
       "    <tr>\n",
       "      <th>1</th>\n",
       "      <td>32</td>\n",
       "      <td>Mortal Kombat</td>\n",
       "      <td>NaN</td>\n",
       "      <td>Simon McQuoid</td>\n",
       "      <td>NaN</td>\n",
       "      <td>NaN</td>\n",
       "      <td>NaN</td>\n",
       "      <td>NaN</td>\n",
       "      <td>Aug 18, 1995</td>\n",
       "      <td>20000000.0</td>\n",
       "      <td>122133227.0</td>\n",
       "      <td>8.0</td>\n",
       "      <td>1995.0</td>\n",
       "      <td>5.106661</td>\n",
       "      <td>Fantasy Adventure Action</td>\n",
       "    </tr>\n",
       "    <tr>\n",
       "      <th>2</th>\n",
       "      <td>39</td>\n",
       "      <td>The Overnight</td>\n",
       "      <td>88.0</td>\n",
       "      <td>Jed I. Goodman</td>\n",
       "      <td>NaN</td>\n",
       "      <td>6.576</td>\n",
       "      <td>6.0</td>\n",
       "      <td>200.0</td>\n",
       "      <td>Jun 19, 2015</td>\n",
       "      <td>200000.0</td>\n",
       "      <td>1165996.0</td>\n",
       "      <td>6.0</td>\n",
       "      <td>2015.0</td>\n",
       "      <td>4.829980</td>\n",
       "      <td>Comedy Mystery</td>\n",
       "    </tr>\n",
       "    <tr>\n",
       "      <th>3</th>\n",
       "      <td>49</td>\n",
       "      <td>On the Road</td>\n",
       "      <td>124.0</td>\n",
       "      <td>Walter Salles</td>\n",
       "      <td>IFC</td>\n",
       "      <td>8.919</td>\n",
       "      <td>5.6</td>\n",
       "      <td>518.0</td>\n",
       "      <td>Mar 22, 2013</td>\n",
       "      <td>25000000.0</td>\n",
       "      <td>9313302.0</td>\n",
       "      <td>3.0</td>\n",
       "      <td>2013.0</td>\n",
       "      <td>-0.627468</td>\n",
       "      <td>Drama Romance Adventure</td>\n",
       "    </tr>\n",
       "    <tr>\n",
       "      <th>4</th>\n",
       "      <td>61</td>\n",
       "      <td>The Secret Life of Walter Mitty</td>\n",
       "      <td>114.0</td>\n",
       "      <td>Ben Stiller</td>\n",
       "      <td>Fox</td>\n",
       "      <td>10.743</td>\n",
       "      <td>7.1</td>\n",
       "      <td>4859.0</td>\n",
       "      <td>Dec 25, 2013</td>\n",
       "      <td>91000000.0</td>\n",
       "      <td>187861183.0</td>\n",
       "      <td>12.0</td>\n",
       "      <td>2013.0</td>\n",
       "      <td>1.064409</td>\n",
       "      <td>Comedy Drama Fantasy Adventure</td>\n",
       "    </tr>\n",
       "  </tbody>\n",
       "</table>\n",
       "</div>"
      ],
      "text/plain": [
       "   Unnamed: 0                            title  runtime       primary_name  \\\n",
       "0          19                       Foodfight!     91.0  Lawrence Kasanoff   \n",
       "1          32                    Mortal Kombat      NaN      Simon McQuoid   \n",
       "2          39                    The Overnight     88.0     Jed I. Goodman   \n",
       "3          49                      On the Road    124.0      Walter Salles   \n",
       "4          61  The Secret Life of Walter Mitty    114.0        Ben Stiller   \n",
       "\n",
       "  studio  popularity  vote_average  vote_count  release_date  \\\n",
       "0    NaN       4.705           2.1        46.0  Dec 31, 2012   \n",
       "1    NaN         NaN           NaN         NaN  Aug 18, 1995   \n",
       "2    NaN       6.576           6.0       200.0  Jun 19, 2015   \n",
       "3    IFC       8.919           5.6       518.0  Mar 22, 2013   \n",
       "4    Fox      10.743           7.1      4859.0  Dec 25, 2013   \n",
       "\n",
       "   production_budget  worldwide_gross  month    year       roi  \\\n",
       "0         45000000.0          73706.0   12.0  2012.0 -0.998362   \n",
       "1         20000000.0      122133227.0    8.0  1995.0  5.106661   \n",
       "2           200000.0        1165996.0    6.0  2015.0  4.829980   \n",
       "3         25000000.0        9313302.0    3.0  2013.0 -0.627468   \n",
       "4         91000000.0      187861183.0   12.0  2013.0  1.064409   \n",
       "\n",
       "                            genre  \n",
       "0  Comedy Animation Action Family  \n",
       "1        Fantasy Adventure Action  \n",
       "2                  Comedy Mystery  \n",
       "3         Drama Romance Adventure  \n",
       "4  Comedy Drama Fantasy Adventure  "
      ]
     },
     "execution_count": 104,
     "metadata": {},
     "output_type": "execute_result"
    }
   ],
   "source": [
    "df = df[df['title'] != 'Twilight']\n",
    "df.head()"
   ]
  },
  {
   "cell_type": "markdown",
   "metadata": {},
   "source": [
    "## Month x ROI"
   ]
  },
  {
   "cell_type": "code",
   "execution_count": 8,
   "metadata": {},
   "outputs": [
    {
     "data": {
      "text/html": [
       "<div>\n",
       "<style scoped>\n",
       "    .dataframe tbody tr th:only-of-type {\n",
       "        vertical-align: middle;\n",
       "    }\n",
       "\n",
       "    .dataframe tbody tr th {\n",
       "        vertical-align: top;\n",
       "    }\n",
       "\n",
       "    .dataframe thead th {\n",
       "        text-align: right;\n",
       "    }\n",
       "</style>\n",
       "<table border=\"1\" class=\"dataframe\">\n",
       "  <thead>\n",
       "    <tr style=\"text-align: right;\">\n",
       "      <th></th>\n",
       "      <th>title</th>\n",
       "      <th>roi</th>\n",
       "      <th>month</th>\n",
       "    </tr>\n",
       "  </thead>\n",
       "  <tbody>\n",
       "    <tr>\n",
       "      <th>0</th>\n",
       "      <td>Foodfight!</td>\n",
       "      <td>-0.998362</td>\n",
       "      <td>12.0</td>\n",
       "    </tr>\n",
       "    <tr>\n",
       "      <th>1</th>\n",
       "      <td>Mortal Kombat</td>\n",
       "      <td>5.106661</td>\n",
       "      <td>8.0</td>\n",
       "    </tr>\n",
       "    <tr>\n",
       "      <th>2</th>\n",
       "      <td>The Overnight</td>\n",
       "      <td>4.829980</td>\n",
       "      <td>6.0</td>\n",
       "    </tr>\n",
       "    <tr>\n",
       "      <th>3</th>\n",
       "      <td>On the Road</td>\n",
       "      <td>-0.627468</td>\n",
       "      <td>3.0</td>\n",
       "    </tr>\n",
       "    <tr>\n",
       "      <th>4</th>\n",
       "      <td>The Secret Life of Walter Mitty</td>\n",
       "      <td>1.064409</td>\n",
       "      <td>12.0</td>\n",
       "    </tr>\n",
       "  </tbody>\n",
       "</table>\n",
       "</div>"
      ],
      "text/plain": [
       "                             title       roi  month\n",
       "0                       Foodfight! -0.998362   12.0\n",
       "1                    Mortal Kombat  5.106661    8.0\n",
       "2                    The Overnight  4.829980    6.0\n",
       "3                      On the Road -0.627468    3.0\n",
       "4  The Secret Life of Walter Mitty  1.064409   12.0"
      ]
     },
     "execution_count": 8,
     "metadata": {},
     "output_type": "execute_result"
    }
   ],
   "source": [
    "#create subset\n",
    "month = df[['title', 'roi','month']]\n",
    "month.head()"
   ]
  },
  {
   "cell_type": "code",
   "execution_count": 9,
   "metadata": {},
   "outputs": [
    {
     "data": {
      "image/png": "[encoded data removed]",
      "text/plain": [
       "<Figure size 864x432 with 1 Axes>"
      ]
     },
     "metadata": {
      "needs_background": "light"
     },
     "output_type": "display_data"
    }
   ],
   "source": [
    "sns.set_palette(\"mako\")\n",
    "\n",
    "mako = sns.color_palette(\"mako\")\n",
    "\n",
    "#plot\n",
    "plt.figure(figsize=(12, 6))\n",
    "\n",
    "with sns.color_palette(mako):\n",
    "    sns.barplot(x='month', y='roi', data=month, ci=None)\n",
    "    \n",
    "plt.title('Month x ROI')\n",
    "plt.xlabel('Month')\n",
    "plt.ylabel('ROI');"
   ]
  },
  {
   "cell_type": "code",
   "execution_count": 10,
   "metadata": {},
   "outputs": [],
   "source": [
    "# catogorize month into season\n",
    "\n",
    "def season(month):\n",
    "    if 3.0 <= month <= 5.0:\n",
    "        return \"Spring\"\n",
    "    elif 6.0 <= month <= 8.0:\n",
    "        return \"Summer\"\n",
    "    elif 9.0 <= month <= 11.0:\n",
    "        return \"Autumn\"\n",
    "    else:\n",
    "        return \"Winter\""
   ]
  },
  {
   "cell_type": "code",
   "execution_count": 11,
   "metadata": {},
   "outputs": [
    {
     "name": "stderr",
     "output_type": "stream",
     "text": [
      "<ipython-input-11-c862b0774fed>:2: SettingWithCopyWarning: \n",
      "A value is trying to be set on a copy of a slice from a DataFrame.\n",
      "Try using .loc[row_indexer,col_indexer] = value instead\n",
      "\n",
      "See the caveats in the documentation: https://pandas.pydata.org/pandas-docs/stable/user_guide/indexing.html#returning-a-view-versus-a-copy\n",
      "  month['season'] = month['month'].apply(season)\n"
     ]
    },
    {
     "data": {
      "text/html": [
       "<div>\n",
       "<style scoped>\n",
       "    .dataframe tbody tr th:only-of-type {\n",
       "        vertical-align: middle;\n",
       "    }\n",
       "\n",
       "    .dataframe tbody tr th {\n",
       "        vertical-align: top;\n",
       "    }\n",
       "\n",
       "    .dataframe thead th {\n",
       "        text-align: right;\n",
       "    }\n",
       "</style>\n",
       "<table border=\"1\" class=\"dataframe\">\n",
       "  <thead>\n",
       "    <tr style=\"text-align: right;\">\n",
       "      <th></th>\n",
       "      <th>title</th>\n",
       "      <th>roi</th>\n",
       "      <th>month</th>\n",
       "      <th>season</th>\n",
       "    </tr>\n",
       "  </thead>\n",
       "  <tbody>\n",
       "    <tr>\n",
       "      <th>0</th>\n",
       "      <td>Foodfight!</td>\n",
       "      <td>-0.998362</td>\n",
       "      <td>12.0</td>\n",
       "      <td>Winter</td>\n",
       "    </tr>\n",
       "    <tr>\n",
       "      <th>1</th>\n",
       "      <td>Mortal Kombat</td>\n",
       "      <td>5.106661</td>\n",
       "      <td>8.0</td>\n",
       "      <td>Summer</td>\n",
       "    </tr>\n",
       "    <tr>\n",
       "      <th>2</th>\n",
       "      <td>The Overnight</td>\n",
       "      <td>4.829980</td>\n",
       "      <td>6.0</td>\n",
       "      <td>Summer</td>\n",
       "    </tr>\n",
       "    <tr>\n",
       "      <th>3</th>\n",
       "      <td>On the Road</td>\n",
       "      <td>-0.627468</td>\n",
       "      <td>3.0</td>\n",
       "      <td>Spring</td>\n",
       "    </tr>\n",
       "    <tr>\n",
       "      <th>4</th>\n",
       "      <td>The Secret Life of Walter Mitty</td>\n",
       "      <td>1.064409</td>\n",
       "      <td>12.0</td>\n",
       "      <td>Winter</td>\n",
       "    </tr>\n",
       "  </tbody>\n",
       "</table>\n",
       "</div>"
      ],
      "text/plain": [
       "                             title       roi  month  season\n",
       "0                       Foodfight! -0.998362   12.0  Winter\n",
       "1                    Mortal Kombat  5.106661    8.0  Summer\n",
       "2                    The Overnight  4.829980    6.0  Summer\n",
       "3                      On the Road -0.627468    3.0  Spring\n",
       "4  The Secret Life of Walter Mitty  1.064409   12.0  Winter"
      ]
     },
     "execution_count": 11,
     "metadata": {},
     "output_type": "execute_result"
    }
   ],
   "source": [
    "# new col\n",
    "month['season'] = month['month'].apply(season)\n",
    "\n",
    "month.head()"
   ]
  },
  {
   "cell_type": "code",
   "execution_count": 12,
   "metadata": {},
   "outputs": [],
   "source": [
    "#create month for anova\n",
    "month_map = {\n",
    "    1.0: 'January',\n",
    "    2.0: 'February',\n",
    "    3.0: 'March',\n",
    "    4.0: 'April',\n",
    "    5.0: 'May',\n",
    "    6.0: 'June',\n",
    "    7.0: 'July',\n",
    "    8.0: 'August',\n",
    "    9.0: 'September',\n",
    "    10.0: 'October',\n",
    "    11.0: 'November',\n",
    "    12.0: 'December'\n",
    "}"
   ]
  },
  {
   "cell_type": "code",
   "execution_count": 93,
   "metadata": {},
   "outputs": [
    {
     "name": "stderr",
     "output_type": "stream",
     "text": [
      "<ipython-input-93-8ed101a83b97>:1: SettingWithCopyWarning: \n",
      "A value is trying to be set on a copy of a slice from a DataFrame.\n",
      "Try using .loc[row_indexer,col_indexer] = value instead\n",
      "\n",
      "See the caveats in the documentation: https://pandas.pydata.org/pandas-docs/stable/user_guide/indexing.html#returning-a-view-versus-a-copy\n",
      "  month['official_month'] = month['month'].map(month_map)\n"
     ]
    },
    {
     "data": {
      "text/html": [
       "<div>\n",
       "<style scoped>\n",
       "    .dataframe tbody tr th:only-of-type {\n",
       "        vertical-align: middle;\n",
       "    }\n",
       "\n",
       "    .dataframe tbody tr th {\n",
       "        vertical-align: top;\n",
       "    }\n",
       "\n",
       "    .dataframe thead th {\n",
       "        text-align: right;\n",
       "    }\n",
       "</style>\n",
       "<table border=\"1\" class=\"dataframe\">\n",
       "  <thead>\n",
       "    <tr style=\"text-align: right;\">\n",
       "      <th></th>\n",
       "      <th>title</th>\n",
       "      <th>roi</th>\n",
       "      <th>month</th>\n",
       "      <th>season</th>\n",
       "      <th>official_month</th>\n",
       "    </tr>\n",
       "  </thead>\n",
       "  <tbody>\n",
       "    <tr>\n",
       "      <th>0</th>\n",
       "      <td>Foodfight!</td>\n",
       "      <td>-0.998362</td>\n",
       "      <td>12.0</td>\n",
       "      <td>Winter</td>\n",
       "      <td>December</td>\n",
       "    </tr>\n",
       "    <tr>\n",
       "      <th>1</th>\n",
       "      <td>Mortal Kombat</td>\n",
       "      <td>5.106661</td>\n",
       "      <td>8.0</td>\n",
       "      <td>Summer</td>\n",
       "      <td>August</td>\n",
       "    </tr>\n",
       "    <tr>\n",
       "      <th>2</th>\n",
       "      <td>The Overnight</td>\n",
       "      <td>4.829980</td>\n",
       "      <td>6.0</td>\n",
       "      <td>Summer</td>\n",
       "      <td>June</td>\n",
       "    </tr>\n",
       "    <tr>\n",
       "      <th>3</th>\n",
       "      <td>On the Road</td>\n",
       "      <td>-0.627468</td>\n",
       "      <td>3.0</td>\n",
       "      <td>Spring</td>\n",
       "      <td>March</td>\n",
       "    </tr>\n",
       "    <tr>\n",
       "      <th>4</th>\n",
       "      <td>The Secret Life of Walter Mitty</td>\n",
       "      <td>1.064409</td>\n",
       "      <td>12.0</td>\n",
       "      <td>Winter</td>\n",
       "      <td>December</td>\n",
       "    </tr>\n",
       "    <tr>\n",
       "      <th>5</th>\n",
       "      <td>A Walk Among the Tombstones</td>\n",
       "      <td>1.218164</td>\n",
       "      <td>9.0</td>\n",
       "      <td>Autumn</td>\n",
       "      <td>September</td>\n",
       "    </tr>\n",
       "    <tr>\n",
       "      <th>6</th>\n",
       "      <td>Jurassic World</td>\n",
       "      <td>6.669092</td>\n",
       "      <td>6.0</td>\n",
       "      <td>Summer</td>\n",
       "      <td>June</td>\n",
       "    </tr>\n",
       "    <tr>\n",
       "      <th>7</th>\n",
       "      <td>The Rum Diary</td>\n",
       "      <td>-0.521228</td>\n",
       "      <td>10.0</td>\n",
       "      <td>Autumn</td>\n",
       "      <td>October</td>\n",
       "    </tr>\n",
       "    <tr>\n",
       "      <th>8</th>\n",
       "      <td>Anderson's Cross</td>\n",
       "      <td>-1.000000</td>\n",
       "      <td>12.0</td>\n",
       "      <td>Winter</td>\n",
       "      <td>December</td>\n",
       "    </tr>\n",
       "    <tr>\n",
       "      <th>9</th>\n",
       "      <td>John Carter</td>\n",
       "      <td>0.028284</td>\n",
       "      <td>3.0</td>\n",
       "      <td>Spring</td>\n",
       "      <td>March</td>\n",
       "    </tr>\n",
       "  </tbody>\n",
       "</table>\n",
       "</div>"
      ],
      "text/plain": [
       "                             title       roi  month  season official_month\n",
       "0                       Foodfight! -0.998362   12.0  Winter       December\n",
       "1                    Mortal Kombat  5.106661    8.0  Summer         August\n",
       "2                    The Overnight  4.829980    6.0  Summer           June\n",
       "3                      On the Road -0.627468    3.0  Spring          March\n",
       "4  The Secret Life of Walter Mitty  1.064409   12.0  Winter       December\n",
       "5      A Walk Among the Tombstones  1.218164    9.0  Autumn      September\n",
       "6                   Jurassic World  6.669092    6.0  Summer           June\n",
       "7                    The Rum Diary -0.521228   10.0  Autumn        October\n",
       "8                 Anderson's Cross -1.000000   12.0  Winter       December\n",
       "9                      John Carter  0.028284    3.0  Spring          March"
      ]
     },
     "execution_count": 93,
     "metadata": {},
     "output_type": "execute_result"
    }
   ],
   "source": [
    "month['official_month'] = month['month'].map(month_map)\n",
    "\n",
    "month.head(10)"
   ]
  },
  {
   "cell_type": "code",
   "execution_count": 116,
   "metadata": {
    "scrolled": false
   },
   "outputs": [
    {
     "data": {
      "image/png": "[encoded data removed]",
      "text/plain": [
       "<Figure size 864x432 with 1 Axes>"
      ]
     },
     "metadata": {},
     "output_type": "display_data"
    },
    {
     "data": {
      "text/plain": [
       "''"
      ]
     },
     "execution_count": 116,
     "metadata": {},
     "output_type": "execute_result"
    }
   ],
   "source": [
    "#plot\n",
    "sns.set_style('darkgrid')\n",
    "sns.set_context('talk')\n",
    "\n",
    "plt.figure(figsize = (12,6))\n",
    "sns.barplot(x = 'season', y = 'roi', data = month, ci = False)\n",
    "plt.xlabel('Season')\n",
    "plt.ylabel('Mean ROI') \n",
    "\n",
    "#save fig\n",
    "plt.savefig('roi_by_season.jpg')\n",
    "\n",
    "# display\n",
    "plt.tight_layout()\n",
    "plt.show()\n",
    "\n",
    ";"
   ]
  },
  {
   "cell_type": "code",
   "execution_count": 125,
   "metadata": {},
   "outputs": [
    {
     "data": {
      "image/png": "[encoded data removed]",
      "text/plain": [
       "<Figure size 864x432 with 1 Axes>"
      ]
     },
     "metadata": {},
     "output_type": "display_data"
    },
    {
     "data": {
      "text/plain": [
       "''"
      ]
     },
     "execution_count": 125,
     "metadata": {},
     "output_type": "execute_result"
    }
   ],
   "source": [
    "# subset positive ROI\n",
    "pos_roi = month[month['roi'] > 0]\n",
    "\n",
    "season_ord = ['Winter', 'Summer', 'Spring', 'Autumn']\n",
    "\n",
    "# Plot\n",
    "sns.set_style('darkgrid')\n",
    "sns.set_context('talk')\n",
    "\n",
    "plt.figure(figsize = (12,6))\n",
    "sns.barplot(x = 'season', y = 'roi', data = pos_roi, ci = False, order = season_ord)\n",
    "plt.xlabel('Season')\n",
    "plt.ylabel('Mean Positive ROI') \n",
    "\n",
    "#save fig\n",
    "plt.savefig('roi_by_season_pos.jpg')\n",
    "\n",
    "# display\n",
    "plt.tight_layout()\n",
    "plt.show()\n",
    "\n",
    ";"
   ]
  },
  {
   "cell_type": "markdown",
   "metadata": {},
   "source": [
    "## Bayes"
   ]
  },
  {
   "cell_type": "code",
   "execution_count": 94,
   "metadata": {},
   "outputs": [],
   "source": [
    "seasons = month['season'].unique()\n",
    "season_data = {season: month['roi'][month['season'] == season] for season in seasons}\n",
    "\n",
    "# Given probabilities\n",
    "p_pos_roi = 0.6199664429530202\n",
    "p_neg_roi = 0.3800335570469799\n"
   ]
  },
  {
   "cell_type": "code",
   "execution_count": 97,
   "metadata": {
    "scrolled": true
   },
   "outputs": [
    {
     "name": "stdout",
     "output_type": "stream",
     "text": [
      "Probability of a movie being debuted in each season:\n",
      "Autumn    0.269715\n",
      "Winter    0.257970\n",
      "Summer    0.236577\n",
      "Spring    0.235738\n",
      "Name: season, dtype: float64\n"
     ]
    }
   ],
   "source": [
    "# prob of each season\n",
    "total_movies = len(month)\n",
    "season_counts = month['season'].value_counts()\n",
    "season_probabilities = season_counts / total_movies\n",
    "\n",
    "print(\"Probability of a movie being debuted in each season:\")\n",
    "print(season_probabilities)"
   ]
  },
  {
   "cell_type": "code",
   "execution_count": 198,
   "metadata": {},
   "outputs": [
    {
     "name": "stdout",
     "output_type": "stream",
     "text": [
      "P(Positive ROI): 0.6199664429530202\n",
      "P(Negative ROI): 0.3800335570469799\n"
     ]
    }
   ],
   "source": [
    "# P(pos)\n",
    "p_pos_roi = (month['roi'] > 0).mean()\n",
    "\n",
    "# P(neg)\n",
    "p_neg_roi = (month['roi'] < 0).mean()\n",
    "\n",
    "print(\"P(Positive ROI):\", positive_roi_probability)\n",
    "print(\"P(Negative ROI):\", negative_roi_probability)"
   ]
  },
  {
   "cell_type": "code",
   "execution_count": 199,
   "metadata": {},
   "outputs": [
    {
     "name": "stdout",
     "output_type": "stream",
     "text": [
      "Probability of a positive ROI given each season:\n",
      "{'Winter': 0.5756097560975609, 'Summer': 0.6737588652482269, 'Spring': 0.6174377224199288, 'Autumn': 0.6174183514774495}\n",
      "\n",
      "Probability of a negative ROI given each season:\n",
      "{'Winter': 0.4059097978227061, 'Summer': 0.28615863141524106, 'Spring': 0.3343701399688958, 'Autumn': 0.38258164852255055}\n"
     ]
    }
   ],
   "source": [
    "# prob \n",
    "# conditional prob for season and positive ROI\n",
    "positive_roi_probabilities = {}\n",
    "for season in month['season'].unique():\n",
    "    szn_dat = month[month['season'] == season]\n",
    "    pos_roi = (szn_dat['roi'] > 0).sum()\n",
    "    tot_movies = len(szn_dat)\n",
    "    positive_roi_probabilities[season] = pos_roi / tot_movies\n",
    "\n",
    "# conditional prob for season and negative ROI\n",
    "negative_roi_probabilities = {}\n",
    "for season in month['season'].unique():\n",
    "    szn_dat = month[month['season'] == season]\n",
    "    neg_roi = (szn_dat['roi'] < 0).sum()\n",
    "    total_movies = len(szn_dat)\n",
    "    negative_roi_probabilities[season] = neg_roi / total_movies_in_season\n",
    "\n",
    "print(\"Probability of a positive ROI given each season:\")\n",
    "print(positive_roi_probabilities)\n",
    "\n",
    "print(\"\\nProbability of a negative ROI given each season:\")\n",
    "print(negative_roi_probabilities)"
   ]
  },
  {
   "cell_type": "markdown",
   "metadata": {},
   "source": [
    "## Statistical Significance with ANOVA"
   ]
  },
  {
   "cell_type": "code",
   "execution_count": null,
   "metadata": {},
   "outputs": [],
   "source": [
    "#likelihood\n",
    "likelihoods = {season: stats.norm(loc=season_data[season].mean(),\n",
    "                                  scale=season_data[season].std()) for season in seasons}\n",
    "\n",
    "# Define the prior probability of each season (you can adjust these values based on your prior knowledge)\n",
    "prior_probs = {\n",
    "    'Winter': 0.25,\n",
    "    'Summer': 0.25,\n",
    "    'Spring': 0.25,\n",
    "    'Autumn': 0.25\n",
    "}\n",
    "\n",
    "# posterior\n",
    "posterior_probs = {}\n",
    "for season in seasons:\n",
    "    likelihood = likelihoods[season].pdf(month['roi'])\n",
    "    num = likelihood * prior_probs[season]\n",
    "    denom = np.sum([likelihoods[other_season].pdf(month['roi']) * prior_probs[other_season] \n",
    "                    for other_season in seasons])\n",
    "    posterior_probs[season] = num / denom\n",
    "    print(posterior_probs[season])\n",
    "\n",
    "# Choose season with highest posterior\n",
    "#predicted_season = max(posterior_probs, key=lambda k: posterior_probs[k])\n",
    "\n",
    "#print(\"Predicted Season:\", predicted_season)"
   ]
  },
  {
   "cell_type": "code",
   "execution_count": 16,
   "metadata": {},
   "outputs": [],
   "source": [
    "roi = month['roi']\n",
    "month_col = month['month']\n",
    "szn = month['season']"
   ]
  },
  {
   "cell_type": "code",
   "execution_count": 17,
   "metadata": {},
   "outputs": [],
   "source": [
    "#anova\n",
    "\n",
    "categories = [group['roi'] for name, group in month.groupby('season')]\n",
    "f_stat, pval = stats.f_oneway(*categories)"
   ]
  },
  {
   "cell_type": "code",
   "execution_count": 18,
   "metadata": {},
   "outputs": [
    {
     "name": "stdout",
     "output_type": "stream",
     "text": [
      "0.07687859499455739\n",
      "not statistically significant\n"
     ]
    }
   ],
   "source": [
    "alpha = 0.05 \n",
    "print(pval)\n",
    "if pval < alpha:\n",
    "    print(\"statistically significant\")\n",
    "else:\n",
    "    print(\"not statistically significant\")"
   ]
  },
  {
   "cell_type": "code",
   "execution_count": null,
   "metadata": {},
   "outputs": [],
   "source": []
  },
  {
   "cell_type": "code",
   "execution_count": 19,
   "metadata": {},
   "outputs": [],
   "source": [
    "#test for significance in roi and month "
   ]
  },
  {
   "cell_type": "code",
   "execution_count": 20,
   "metadata": {},
   "outputs": [],
   "source": [
    "#anova\n",
    "\n",
    "cat2 = [group['roi'] for name, group in month.groupby('official_month')]\n",
    "f_stat, pval = stats.f_oneway(*cat2)"
   ]
  },
  {
   "cell_type": "code",
   "execution_count": 21,
   "metadata": {},
   "outputs": [
    {
     "name": "stdout",
     "output_type": "stream",
     "text": [
      "0.25634436177269776\n",
      "not statistically significant\n"
     ]
    }
   ],
   "source": [
    "alpha = 0.05 \n",
    "print(pval)\n",
    "if pval < alpha:\n",
    "    print(\"statistically significant\")\n",
    "else:\n",
    "    print(\"not statistically significant\")"
   ]
  },
  {
   "cell_type": "code",
   "execution_count": null,
   "metadata": {},
   "outputs": [],
   "source": []
  },
  {
   "cell_type": "markdown",
   "metadata": {},
   "source": [
    "# Runtime"
   ]
  },
  {
   "cell_type": "code",
   "execution_count": 6,
   "metadata": {},
   "outputs": [],
   "source": [
    "runtime = df[['title','runtime', 'roi']]"
   ]
  },
  {
   "cell_type": "code",
   "execution_count": 7,
   "metadata": {},
   "outputs": [
    {
     "name": "stdout",
     "output_type": "stream",
     "text": [
      "<class 'pandas.core.frame.DataFrame'>\n",
      "Int64Index: 2156 entries, 0 to 2155\n",
      "Data columns (total 3 columns):\n",
      " #   Column   Non-Null Count  Dtype  \n",
      "---  ------   --------------  -----  \n",
      " 0   title    2156 non-null   object \n",
      " 1   runtime  1812 non-null   float64\n",
      " 2   roi      2156 non-null   float64\n",
      "dtypes: float64(2), object(1)\n",
      "memory usage: 67.4+ KB\n"
     ]
    }
   ],
   "source": [
    "runtime.value_counts()\n",
    "runtime.info()"
   ]
  },
  {
   "cell_type": "code",
   "execution_count": 8,
   "metadata": {},
   "outputs": [],
   "source": [
    "runtime = runtime.sort_values('runtime')"
   ]
  },
  {
   "cell_type": "code",
   "execution_count": 9,
   "metadata": {},
   "outputs": [
    {
     "data": {
      "text/html": [
       "<div>\n",
       "<style scoped>\n",
       "    .dataframe tbody tr th:only-of-type {\n",
       "        vertical-align: middle;\n",
       "    }\n",
       "\n",
       "    .dataframe tbody tr th {\n",
       "        vertical-align: top;\n",
       "    }\n",
       "\n",
       "    .dataframe thead th {\n",
       "        text-align: right;\n",
       "    }\n",
       "</style>\n",
       "<table border=\"1\" class=\"dataframe\">\n",
       "  <thead>\n",
       "    <tr style=\"text-align: right;\">\n",
       "      <th></th>\n",
       "      <th>title</th>\n",
       "      <th>runtime</th>\n",
       "      <th>roi</th>\n",
       "    </tr>\n",
       "  </thead>\n",
       "  <tbody>\n",
       "    <tr>\n",
       "      <th>1479</th>\n",
       "      <td>November</td>\n",
       "      <td>1.0</td>\n",
       "      <td>-0.232552</td>\n",
       "    </tr>\n",
       "    <tr>\n",
       "      <th>159</th>\n",
       "      <td>Lovesick</td>\n",
       "      <td>4.0</td>\n",
       "      <td>0.004319</td>\n",
       "    </tr>\n",
       "    <tr>\n",
       "      <th>1920</th>\n",
       "      <td>Dinosaur</td>\n",
       "      <td>5.0</td>\n",
       "      <td>1.793318</td>\n",
       "    </tr>\n",
       "    <tr>\n",
       "      <th>1364</th>\n",
       "      <td>Jumper</td>\n",
       "      <td>5.0</td>\n",
       "      <td>1.698677</td>\n",
       "    </tr>\n",
       "    <tr>\n",
       "      <th>1360</th>\n",
       "      <td>Role Models</td>\n",
       "      <td>6.0</td>\n",
       "      <td>2.375029</td>\n",
       "    </tr>\n",
       "  </tbody>\n",
       "</table>\n",
       "</div>"
      ],
      "text/plain": [
       "            title  runtime       roi\n",
       "1479     November      1.0 -0.232552\n",
       "159      Lovesick      4.0  0.004319\n",
       "1920     Dinosaur      5.0  1.793318\n",
       "1364       Jumper      5.0  1.698677\n",
       "1360  Role Models      6.0  2.375029"
      ]
     },
     "execution_count": 9,
     "metadata": {},
     "output_type": "execute_result"
    }
   ],
   "source": [
    "runtime.head()"
   ]
  },
  {
   "cell_type": "code",
   "execution_count": 26,
   "metadata": {},
   "outputs": [],
   "source": [
    "# short films = 40 min or less\n",
    "# avg film 41 min to 150 min\n",
    "# long film > 150"
   ]
  },
  {
   "cell_type": "code",
   "execution_count": 11,
   "metadata": {},
   "outputs": [
    {
     "name": "stdout",
     "output_type": "stream",
     "text": [
      "Short movies 22 Avg movies 1748 Long movies 34\n"
     ]
    }
   ],
   "source": [
    "short_count = len(runtime[runtime['runtime'] < 40])\n",
    "avg_count = len((runtime[(runtime['runtime'] >= 41) & (runtime['runtime'] < 150)]))\n",
    "long_count = len(runtime[runtime['runtime'] > 151])\n",
    "\n",
    "print(f'Short movies {short_count} Avg movies {avg_count} Long movies {long_count}')"
   ]
  },
  {
   "cell_type": "code",
   "execution_count": 12,
   "metadata": {},
   "outputs": [],
   "source": [
    "# catogorize runtime into length\n",
    "\n",
    "def runtime_cat(runtime):\n",
    "    if 0.0 <= runtime <= 40.0:\n",
    "        return \"Films less than 40 Minutes\"\n",
    "    elif 41.0 <= runtime <= 150.0:\n",
    "        return \"Films between 40 minutes and 150 minutes\"\n",
    "    else:\n",
    "        return \"Films longer than 150 minutes\""
   ]
  },
  {
   "cell_type": "code",
   "execution_count": 15,
   "metadata": {},
   "outputs": [
    {
     "data": {
      "text/plain": [
       "title             0\n",
       "runtime           0\n",
       "roi               0\n",
       "runtime_length    0\n",
       "dtype: int64"
      ]
     },
     "execution_count": 15,
     "metadata": {},
     "output_type": "execute_result"
    }
   ],
   "source": [
    "# apply and create new column\n",
    "runtime['runtime_length'] = runtime['runtime'].apply(runtime_cat)\n",
    "\n",
    "#add \n",
    "runtime.isna().sum()\n",
    "\n",
    "#runtime = runtime.dropna()"
   ]
  },
  {
   "cell_type": "code",
   "execution_count": 141,
   "metadata": {},
   "outputs": [
    {
     "data": {
      "text/html": [
       "<div>\n",
       "<style scoped>\n",
       "    .dataframe tbody tr th:only-of-type {\n",
       "        vertical-align: middle;\n",
       "    }\n",
       "\n",
       "    .dataframe tbody tr th {\n",
       "        vertical-align: top;\n",
       "    }\n",
       "\n",
       "    .dataframe thead th {\n",
       "        text-align: right;\n",
       "    }\n",
       "</style>\n",
       "<table border=\"1\" class=\"dataframe\">\n",
       "  <thead>\n",
       "    <tr style=\"text-align: right;\">\n",
       "      <th></th>\n",
       "      <th>title</th>\n",
       "      <th>runtime</th>\n",
       "      <th>roi</th>\n",
       "      <th>runtime_length</th>\n",
       "    </tr>\n",
       "  </thead>\n",
       "  <tbody>\n",
       "    <tr>\n",
       "      <th>1643</th>\n",
       "      <td>November</td>\n",
       "      <td>1.0</td>\n",
       "      <td>-0.232552</td>\n",
       "      <td>Films less than 40 Minutes</td>\n",
       "    </tr>\n",
       "    <tr>\n",
       "      <th>168</th>\n",
       "      <td>Lovesick</td>\n",
       "      <td>4.0</td>\n",
       "      <td>0.004319</td>\n",
       "      <td>Films less than 40 Minutes</td>\n",
       "    </tr>\n",
       "    <tr>\n",
       "      <th>1500</th>\n",
       "      <td>Jumper</td>\n",
       "      <td>5.0</td>\n",
       "      <td>1.698677</td>\n",
       "      <td>Films less than 40 Minutes</td>\n",
       "    </tr>\n",
       "    <tr>\n",
       "      <th>2127</th>\n",
       "      <td>Dinosaur</td>\n",
       "      <td>5.0</td>\n",
       "      <td>1.793318</td>\n",
       "      <td>Films less than 40 Minutes</td>\n",
       "    </tr>\n",
       "    <tr>\n",
       "      <th>1496</th>\n",
       "      <td>Role Models</td>\n",
       "      <td>6.0</td>\n",
       "      <td>2.375029</td>\n",
       "      <td>Films less than 40 Minutes</td>\n",
       "    </tr>\n",
       "    <tr>\n",
       "      <th>1699</th>\n",
       "      <td>Elizabeth</td>\n",
       "      <td>7.0</td>\n",
       "      <td>2.286026</td>\n",
       "      <td>Films less than 40 Minutes</td>\n",
       "    </tr>\n",
       "    <tr>\n",
       "      <th>2042</th>\n",
       "      <td>American Dreamz</td>\n",
       "      <td>7.0</td>\n",
       "      <td>-0.028766</td>\n",
       "      <td>Films less than 40 Minutes</td>\n",
       "    </tr>\n",
       "    <tr>\n",
       "      <th>178</th>\n",
       "      <td>Next</td>\n",
       "      <td>7.0</td>\n",
       "      <td>0.051307</td>\n",
       "      <td>Films less than 40 Minutes</td>\n",
       "    </tr>\n",
       "    <tr>\n",
       "      <th>1878</th>\n",
       "      <td>Birth</td>\n",
       "      <td>9.0</td>\n",
       "      <td>-0.269850</td>\n",
       "      <td>Films less than 40 Minutes</td>\n",
       "    </tr>\n",
       "    <tr>\n",
       "      <th>1701</th>\n",
       "      <td>Gladiator</td>\n",
       "      <td>9.0</td>\n",
       "      <td>3.443532</td>\n",
       "      <td>Films less than 40 Minutes</td>\n",
       "    </tr>\n",
       "    <tr>\n",
       "      <th>1922</th>\n",
       "      <td>May</td>\n",
       "      <td>10.0</td>\n",
       "      <td>-0.637255</td>\n",
       "      <td>Films less than 40 Minutes</td>\n",
       "    </tr>\n",
       "    <tr>\n",
       "      <th>1856</th>\n",
       "      <td>Exit Wounds</td>\n",
       "      <td>11.0</td>\n",
       "      <td>1.422988</td>\n",
       "      <td>Films less than 40 Minutes</td>\n",
       "    </tr>\n",
       "    <tr>\n",
       "      <th>134</th>\n",
       "      <td>Snatched</td>\n",
       "      <td>11.0</td>\n",
       "      <td>0.377433</td>\n",
       "      <td>Films less than 40 Minutes</td>\n",
       "    </tr>\n",
       "    <tr>\n",
       "      <th>1009</th>\n",
       "      <td>The Love Letter</td>\n",
       "      <td>12.0</td>\n",
       "      <td>-0.399268</td>\n",
       "      <td>Films less than 40 Minutes</td>\n",
       "    </tr>\n",
       "    <tr>\n",
       "      <th>2069</th>\n",
       "      <td>The Cave</td>\n",
       "      <td>15.0</td>\n",
       "      <td>-0.095067</td>\n",
       "      <td>Films less than 40 Minutes</td>\n",
       "    </tr>\n",
       "    <tr>\n",
       "      <th>1956</th>\n",
       "      <td>The Deer Hunter</td>\n",
       "      <td>15.0</td>\n",
       "      <td>2.333950</td>\n",
       "      <td>Films less than 40 Minutes</td>\n",
       "    </tr>\n",
       "    <tr>\n",
       "      <th>142</th>\n",
       "      <td>Believe</td>\n",
       "      <td>16.0</td>\n",
       "      <td>-0.745628</td>\n",
       "      <td>Films less than 40 Minutes</td>\n",
       "    </tr>\n",
       "    <tr>\n",
       "      <th>138</th>\n",
       "      <td>Inferno</td>\n",
       "      <td>16.0</td>\n",
       "      <td>1.926925</td>\n",
       "      <td>Films less than 40 Minutes</td>\n",
       "    </tr>\n",
       "    <tr>\n",
       "      <th>2126</th>\n",
       "      <td>Ghost Town</td>\n",
       "      <td>26.0</td>\n",
       "      <td>0.497911</td>\n",
       "      <td>Films less than 40 Minutes</td>\n",
       "    </tr>\n",
       "    <tr>\n",
       "      <th>870</th>\n",
       "      <td>Virus</td>\n",
       "      <td>30.0</td>\n",
       "      <td>-0.591644</td>\n",
       "      <td>Films less than 40 Minutes</td>\n",
       "    </tr>\n",
       "  </tbody>\n",
       "</table>\n",
       "</div>"
      ],
      "text/plain": [
       "                title  runtime       roi              runtime_length\n",
       "1643         November      1.0 -0.232552  Films less than 40 Minutes\n",
       "168          Lovesick      4.0  0.004319  Films less than 40 Minutes\n",
       "1500           Jumper      5.0  1.698677  Films less than 40 Minutes\n",
       "2127         Dinosaur      5.0  1.793318  Films less than 40 Minutes\n",
       "1496      Role Models      6.0  2.375029  Films less than 40 Minutes\n",
       "1699        Elizabeth      7.0  2.286026  Films less than 40 Minutes\n",
       "2042  American Dreamz      7.0 -0.028766  Films less than 40 Minutes\n",
       "178              Next      7.0  0.051307  Films less than 40 Minutes\n",
       "1878            Birth      9.0 -0.269850  Films less than 40 Minutes\n",
       "1701        Gladiator      9.0  3.443532  Films less than 40 Minutes\n",
       "1922              May     10.0 -0.637255  Films less than 40 Minutes\n",
       "1856      Exit Wounds     11.0  1.422988  Films less than 40 Minutes\n",
       "134          Snatched     11.0  0.377433  Films less than 40 Minutes\n",
       "1009  The Love Letter     12.0 -0.399268  Films less than 40 Minutes\n",
       "2069         The Cave     15.0 -0.095067  Films less than 40 Minutes\n",
       "1956  The Deer Hunter     15.0  2.333950  Films less than 40 Minutes\n",
       "142           Believe     16.0 -0.745628  Films less than 40 Minutes\n",
       "138           Inferno     16.0  1.926925  Films less than 40 Minutes\n",
       "2126       Ghost Town     26.0  0.497911  Films less than 40 Minutes\n",
       "870             Virus     30.0 -0.591644  Films less than 40 Minutes"
      ]
     },
     "execution_count": 141,
     "metadata": {},
     "output_type": "execute_result"
    }
   ],
   "source": [
    "runtime.head(20)"
   ]
  },
  {
   "cell_type": "code",
   "execution_count": 139,
   "metadata": {},
   "outputs": [
    {
     "data": {
      "text/plain": [
       "''"
      ]
     },
     "execution_count": 139,
     "metadata": {},
     "output_type": "execute_result"
    },
    {
     "data": {
      "image/png": "[encoded data removed]",
      "text/plain": [
       "<Figure size 864x432 with 1 Axes>"
      ]
     },
     "metadata": {},
     "output_type": "display_data"
    }
   ],
   "source": [
    "\n",
    "#pos_roi_rt = runtime[runtime['roi'] > 0]\n",
    "\n",
    "#plot\n",
    "sns.set_style('darkgrid')\n",
    "sns.set_context('talk')\n",
    "\n",
    "plt.figure(figsize = (12,6))\n",
    "sns.barplot(x = 'runtime_length', y = 'roi', data = runtime, ci = False)\n",
    "\n",
    "plt.xlabel('Runtime')\n",
    "plt.ylabel('Mean ROI') \n",
    "\n",
    "#set x_ticks\n",
    "custom_labels = [\"< 40 minutes\", \"41 - 150 minutes\", \"> 151 minutes\"]\n",
    "plt.xticks(range(len(custom_labels)), custom_labels)\n",
    "\n",
    "#save\n",
    "plt.savefig('runtime_roi.jpg', dpi=300)\n",
    ";"
   ]
  },
  {
   "cell_type": "code",
   "execution_count": 140,
   "metadata": {},
   "outputs": [
    {
     "data": {
      "text/plain": [
       "''"
      ]
     },
     "execution_count": 140,
     "metadata": {},
     "output_type": "execute_result"
    },
    {
     "data": {
      "image/png": "[encoded data removed]",
      "text/plain": [
       "<Figure size 864x432 with 1 Axes>"
      ]
     },
     "metadata": {},
     "output_type": "display_data"
    }
   ],
   "source": [
    "\n",
    "pos_roi_rt = runtime[runtime['roi'] > 0]\n",
    "\n",
    "#plot\n",
    "sns.set_style('darkgrid')\n",
    "sns.set_context('talk')\n",
    "\n",
    "plt.figure(figsize = (12,6))\n",
    "sns.barplot(x = 'runtime_length', y = 'roi', data = pos_roi_rt, ci = False)\n",
    "\n",
    "plt.xlabel('Runtime')\n",
    "plt.ylabel('Mean Positive ROI') \n",
    "\n",
    "#set x_ticks\n",
    "custom_labels = [\"< 40 minutes\", \"41 - 150 minutes\", \"> 151 minutes\"]\n",
    "plt.xticks(range(len(custom_labels)), custom_labels)\n",
    "\n",
    "#save\n",
    "plt.savefig('runtime_pos_roi.jpg', dpi=300)\n",
    ";"
   ]
  },
  {
   "cell_type": "code",
   "execution_count": null,
   "metadata": {},
   "outputs": [],
   "source": [
    "## Runtime"
   ]
  },
  {
   "cell_type": "code",
   "execution_count": 180,
   "metadata": {},
   "outputs": [],
   "source": [
    "# Given probabilities\n",
    "p_pos_roi = 0.6199664429530202\n",
    "p_neg_roi = 0.3800335570469799\n"
   ]
  },
  {
   "cell_type": "code",
   "execution_count": 191,
   "metadata": {
    "scrolled": true
   },
   "outputs": [],
   "source": [
    "# Count the number of movies in each category\n",
    "pos_short = len(runtime[(runtime['runtime_length'] == 'Films less than 40 Minutes') & (runtime['roi'] > 0)])\n",
    "short = len(runtime[runtime['runtime_length'] == 'Films less than 40 Minutes'])\n",
    "                    \n",
    "pos_avg = len(runtime[(runtime['runtime_length'] == 'Films between 40 minutes and 150 minutes') & (runtime['roi'] > 0)])\n",
    "average = len(runtime[runtime['runtime_length'] == 'Films between 40 minutes and 150 minutes'])\n",
    "\n",
    "pos_long = len(runtime[(runtime['runtime_length'] == 'Films longer than 150 minutes') & (runtime['roi'] > 0)])\n",
    "long = len(runtime[runtime['runtime_length'] == 'Films longer than 150 minutes'])\n",
    "\n",
    "\n",
    "# Total number of movies\n",
    "total_movies = len(runtime)"
   ]
  },
  {
   "cell_type": "code",
   "execution_count": 192,
   "metadata": {},
   "outputs": [],
   "source": [
    "#P(Pos|Short)\n",
    "p_given_short = pos_short / short\n"
   ]
  },
  {
   "cell_type": "code",
   "execution_count": 193,
   "metadata": {},
   "outputs": [],
   "source": [
    "#P(pos|average)\n",
    "p_given_avg = pos_avg / average\n"
   ]
  },
  {
   "cell_type": "code",
   "execution_count": 194,
   "metadata": {},
   "outputs": [],
   "source": [
    "#P(pos|average)\n",
    "p_given_long = pos_long / long"
   ]
  },
  {
   "cell_type": "code",
   "execution_count": 195,
   "metadata": {},
   "outputs": [
    {
     "name": "stdout",
     "output_type": "stream",
     "text": [
      "P(p_positive_roi | p_short): 0.6190476190476191\n",
      "P(p_positive_roi | p_avg): 0.6160990712074303\n",
      "P(p_positive_roi | p_long): 0.6376470588235295\n"
     ]
    }
   ],
   "source": [
    "print(\"P(p_positive_roi | p_short):\", p_given_short)\n",
    "print(\"P(p_positive_roi | p_avg):\", p_given_avg)\n",
    "print(\"P(p_positive_roi | p_long):\", p_given_long)"
   ]
  },
  {
   "cell_type": "code",
   "execution_count": null,
   "metadata": {},
   "outputs": [],
   "source": []
  },
  {
   "cell_type": "markdown",
   "metadata": {},
   "source": [
    "## distributions"
   ]
  },
  {
   "cell_type": "code",
   "execution_count": 32,
   "metadata": {},
   "outputs": [],
   "source": [
    "# by month"
   ]
  },
  {
   "cell_type": "code",
   "execution_count": 33,
   "metadata": {},
   "outputs": [
    {
     "data": {
      "image/png": "[encoded data removed]",
      "text/plain": [
       "<Figure size 720x432 with 1 Axes>"
      ]
     },
     "metadata": {
      "needs_background": "light"
     },
     "output_type": "display_data"
    }
   ],
   "source": [
    "month_counts = month['official_month'].value_counts().reindex(\n",
    "    ['January', 'February', 'March', 'April', 'May', 'June', 'July', 'August', 'September', 'October', 'November', 'December']\n",
    ")\n",
    "\n",
    "# plot\n",
    "\n",
    "plt.figure(figsize=(10, 6))\n",
    "sns.set_palette(\"mako\")\n",
    "sns.barplot(x=month_counts.index, y=month_counts.values)\n",
    "plt.xlabel('month')\n",
    "plt.ylabel('mean roi') \n",
    "plt.xticks(rotation=45);"
   ]
  },
  {
   "cell_type": "code",
   "execution_count": 34,
   "metadata": {},
   "outputs": [
    {
     "data": {
      "image/png": "[encoded data removed]",
      "text/plain": [
       "<Figure size 720x432 with 1 Axes>"
      ]
     },
     "metadata": {
      "needs_background": "light"
     },
     "output_type": "display_data"
    }
   ],
   "source": [
    "# by season\n",
    "\n",
    "season_counts = month['season'].value_counts().reindex(\n",
    "    ['Summer', 'Winter', 'Spring', 'Autumn']\n",
    ")\n",
    "\n",
    "# plot\n",
    "plt.figure(figsize = (10, 6))\n",
    "sns.set_palette(\"mako\")\n",
    "sns.barplot(x = season_counts.index, y = season_counts.values);\n"
   ]
  },
  {
   "cell_type": "code",
   "execution_count": 35,
   "metadata": {},
   "outputs": [],
   "source": [
    "#short films"
   ]
  },
  {
   "cell_type": "code",
   "execution_count": 16,
   "metadata": {},
   "outputs": [
    {
     "ename": "SyntaxError",
     "evalue": "invalid syntax (<ipython-input-16-528cb508a269>, line 4)",
     "output_type": "error",
     "traceback": [
      "\u001b[0;36m  File \u001b[0;32m\"<ipython-input-16-528cb508a269>\"\u001b[0;36m, line \u001b[0;32m4\u001b[0m\n\u001b[0;31m    plt.figure(figsize=(10, 6))\u001b[0m\n\u001b[0m    ^\u001b[0m\n\u001b[0;31mSyntaxError\u001b[0m\u001b[0;31m:\u001b[0m invalid syntax\n"
     ]
    }
   ],
   "source": [
    "short_films = runtime[(runtime['runtime_length'] == 'Short Film')\n",
    "\n",
    "# plot\n",
    "plt.figure(figsize=(10, 6))\n",
    "sns.histplot(data=short_films, x='roi', bins=10, kde=True)\n",
    "sns.set_palette(\"mako\")\n",
    "plt.xlabel('roi')\n",
    "plt.ylabel('frequency')\n",
    ";"
   ]
  },
  {
   "cell_type": "code",
   "execution_count": 37,
   "metadata": {
    "scrolled": true
   },
   "outputs": [
    {
     "data": {
      "text/html": [
       "<div>\n",
       "<style scoped>\n",
       "    .dataframe tbody tr th:only-of-type {\n",
       "        vertical-align: middle;\n",
       "    }\n",
       "\n",
       "    .dataframe tbody tr th {\n",
       "        vertical-align: top;\n",
       "    }\n",
       "\n",
       "    .dataframe thead th {\n",
       "        text-align: right;\n",
       "    }\n",
       "</style>\n",
       "<table border=\"1\" class=\"dataframe\">\n",
       "  <thead>\n",
       "    <tr style=\"text-align: right;\">\n",
       "      <th></th>\n",
       "      <th>title</th>\n",
       "      <th>runtime</th>\n",
       "      <th>roi</th>\n",
       "      <th>runtime_length</th>\n",
       "    </tr>\n",
       "  </thead>\n",
       "  <tbody>\n",
       "  </tbody>\n",
       "</table>\n",
       "</div>"
      ],
      "text/plain": [
       "Empty DataFrame\n",
       "Columns: [title, runtime, roi, runtime_length]\n",
       "Index: []"
      ]
     },
     "execution_count": 37,
     "metadata": {},
     "output_type": "execute_result"
    }
   ],
   "source": [
    "#find outlier\n",
    "high_roi_short = short_films[short_films['roi'] > 5]\n",
    "high_roi_short #twilight mistake?"
   ]
  },
  {
   "cell_type": "code",
   "execution_count": null,
   "metadata": {},
   "outputs": [],
   "source": []
  },
  {
   "cell_type": "code",
   "execution_count": 38,
   "metadata": {},
   "outputs": [
    {
     "data": {
      "text/plain": [
       "''"
      ]
     },
     "execution_count": 38,
     "metadata": {},
     "output_type": "execute_result"
    },
    {
     "data": {
      "image/png": "[encoded data removed]",
      "text/plain": [
       "<Figure size 720x432 with 1 Axes>"
      ]
     },
     "metadata": {
      "needs_background": "light"
     },
     "output_type": "display_data"
    }
   ],
   "source": [
    "#avg films\n",
    "\n",
    "avg_films = runtime[runtime['runtime_length'] == 'Average Film']\n",
    "\n",
    "# plot\n",
    "plt.figure(figsize = (10, 6))\n",
    "sns.histplot(data = avg_films, x ='roi', bins = 10)\n",
    "sns.set_palette(\"mako\")\n",
    "plt.xlabel('roi')\n",
    "plt.ylabel('frequency')\n",
    ";"
   ]
  },
  {
   "cell_type": "code",
   "execution_count": 39,
   "metadata": {
    "scrolled": true
   },
   "outputs": [
    {
     "data": {
      "text/html": [
       "<div>\n",
       "<style scoped>\n",
       "    .dataframe tbody tr th:only-of-type {\n",
       "        vertical-align: middle;\n",
       "    }\n",
       "\n",
       "    .dataframe tbody tr th {\n",
       "        vertical-align: top;\n",
       "    }\n",
       "\n",
       "    .dataframe thead th {\n",
       "        text-align: right;\n",
       "    }\n",
       "</style>\n",
       "<table border=\"1\" class=\"dataframe\">\n",
       "  <thead>\n",
       "    <tr style=\"text-align: right;\">\n",
       "      <th></th>\n",
       "      <th>title</th>\n",
       "      <th>runtime</th>\n",
       "      <th>roi</th>\n",
       "      <th>runtime_length</th>\n",
       "    </tr>\n",
       "  </thead>\n",
       "  <tbody>\n",
       "    <tr>\n",
       "      <th>2092</th>\n",
       "      <td>Snow White and the Seven Dwarfs</td>\n",
       "      <td>49.0</td>\n",
       "      <td>123.277880</td>\n",
       "      <td>Average Film</td>\n",
       "    </tr>\n",
       "    <tr>\n",
       "      <th>1431</th>\n",
       "      <td>Bambi</td>\n",
       "      <td>58.0</td>\n",
       "      <td>311.354312</td>\n",
       "      <td>Average Film</td>\n",
       "    </tr>\n",
       "    <tr>\n",
       "      <th>1414</th>\n",
       "      <td>Graduation Day</td>\n",
       "      <td>75.0</td>\n",
       "      <td>94.576000</td>\n",
       "      <td>Average Film</td>\n",
       "    </tr>\n",
       "    <tr>\n",
       "      <th>610</th>\n",
       "      <td>The Devil Inside</td>\n",
       "      <td>83.0</td>\n",
       "      <td>100.759490</td>\n",
       "      <td>Average Film</td>\n",
       "    </tr>\n",
       "    <tr>\n",
       "      <th>1684</th>\n",
       "      <td>Unfriended</td>\n",
       "      <td>83.0</td>\n",
       "      <td>63.364198</td>\n",
       "      <td>Average Film</td>\n",
       "    </tr>\n",
       "    <tr>\n",
       "      <th>895</th>\n",
       "      <td>Benji</td>\n",
       "      <td>87.0</td>\n",
       "      <td>62.119120</td>\n",
       "      <td>Average Film</td>\n",
       "    </tr>\n",
       "    <tr>\n",
       "      <th>1429</th>\n",
       "      <td>Split</td>\n",
       "      <td>90.0</td>\n",
       "      <td>54.792961</td>\n",
       "      <td>Average Film</td>\n",
       "    </tr>\n",
       "    <tr>\n",
       "      <th>587</th>\n",
       "      <td>Paranormal Activity 2</td>\n",
       "      <td>91.0</td>\n",
       "      <td>58.170677</td>\n",
       "      <td>Average Film</td>\n",
       "    </tr>\n",
       "    <tr>\n",
       "      <th>645</th>\n",
       "      <td>Insidious</td>\n",
       "      <td>103.0</td>\n",
       "      <td>65.580591</td>\n",
       "      <td>Average Film</td>\n",
       "    </tr>\n",
       "    <tr>\n",
       "      <th>1901</th>\n",
       "      <td>Get Out</td>\n",
       "      <td>104.0</td>\n",
       "      <td>50.073590</td>\n",
       "      <td>Average Film</td>\n",
       "    </tr>\n",
       "    <tr>\n",
       "      <th>1537</th>\n",
       "      <td>Rocky</td>\n",
       "      <td>136.0</td>\n",
       "      <td>224.000000</td>\n",
       "      <td>Average Film</td>\n",
       "    </tr>\n",
       "  </tbody>\n",
       "</table>\n",
       "</div>"
      ],
      "text/plain": [
       "                                title  runtime         roi runtime_length\n",
       "2092  Snow White and the Seven Dwarfs     49.0  123.277880   Average Film\n",
       "1431                            Bambi     58.0  311.354312   Average Film\n",
       "1414                   Graduation Day     75.0   94.576000   Average Film\n",
       "610                  The Devil Inside     83.0  100.759490   Average Film\n",
       "1684                       Unfriended     83.0   63.364198   Average Film\n",
       "895                             Benji     87.0   62.119120   Average Film\n",
       "1429                            Split     90.0   54.792961   Average Film\n",
       "587             Paranormal Activity 2     91.0   58.170677   Average Film\n",
       "645                         Insidious    103.0   65.580591   Average Film\n",
       "1901                          Get Out    104.0   50.073590   Average Film\n",
       "1537                            Rocky    136.0  224.000000   Average Film"
      ]
     },
     "execution_count": 39,
     "metadata": {},
     "output_type": "execute_result"
    }
   ],
   "source": [
    "#find outlier\n",
    "high_roi_avg = avg_films[avg_films['roi'] > 50]\n",
    "high_roi_avg #exceptional movies #maybe we analyze them seperately? is there a commonality?"
   ]
  },
  {
   "cell_type": "code",
   "execution_count": 40,
   "metadata": {},
   "outputs": [
    {
     "data": {
      "text/plain": [
       "''"
      ]
     },
     "execution_count": 40,
     "metadata": {},
     "output_type": "execute_result"
    },
    {
     "data": {
      "image/png": "[encoded data removed]",
      "text/plain": [
       "<Figure size 720x432 with 1 Axes>"
      ]
     },
     "metadata": {
      "needs_background": "light"
     },
     "output_type": "display_data"
    }
   ],
   "source": [
    "#avg films\n",
    "\n",
    "avg_films_lower_roi = runtime[(runtime['runtime_length'] == 'Average Film') & (runtime['roi'] < 10)]\n",
    "\n",
    "# plot\n",
    "plt.figure(figsize = (10, 6))\n",
    "sns.histplot(data = avg_films_lower_roi, x ='roi', bins = 10)\n",
    "sns.set_palette(\"mako\")\n",
    "plt.xlabel('roi')\n",
    "plt.ylabel('frequency')\n",
    ";"
   ]
  },
  {
   "cell_type": "code",
   "execution_count": null,
   "metadata": {},
   "outputs": [],
   "source": []
  },
  {
   "cell_type": "code",
   "execution_count": null,
   "metadata": {},
   "outputs": [],
   "source": []
  },
  {
   "cell_type": "code",
   "execution_count": 41,
   "metadata": {},
   "outputs": [
    {
     "data": {
      "text/plain": [
       "''"
      ]
     },
     "execution_count": 41,
     "metadata": {},
     "output_type": "execute_result"
    },
    {
     "data": {
      "image/png": "[encoded data removed]",
      "text/plain": [
       "<Figure size 720x432 with 1 Axes>"
      ]
     },
     "metadata": {
      "needs_background": "light"
     },
     "output_type": "display_data"
    }
   ],
   "source": [
    "#long films\n",
    "\n",
    "long_films = runtime[runtime['runtime_length'] == 'Extended Film']\n",
    "\n",
    "# plot\n",
    "plt.figure(figsize = (10, 6))\n",
    "sns.histplot(data = long_films, x ='roi', bins = 10)\n",
    "sns.set_palette(\"mako\")\n",
    "plt.xlabel('roi')\n",
    "plt.ylabel('frequency')\n",
    ";"
   ]
  },
  {
   "cell_type": "code",
   "execution_count": 42,
   "metadata": {},
   "outputs": [
    {
     "data": {
      "text/html": [
       "<div>\n",
       "<style scoped>\n",
       "    .dataframe tbody tr th:only-of-type {\n",
       "        vertical-align: middle;\n",
       "    }\n",
       "\n",
       "    .dataframe tbody tr th {\n",
       "        vertical-align: top;\n",
       "    }\n",
       "\n",
       "    .dataframe thead th {\n",
       "        text-align: right;\n",
       "    }\n",
       "</style>\n",
       "<table border=\"1\" class=\"dataframe\">\n",
       "  <thead>\n",
       "    <tr style=\"text-align: right;\">\n",
       "      <th></th>\n",
       "      <th>title</th>\n",
       "      <th>runtime</th>\n",
       "      <th>roi</th>\n",
       "      <th>runtime_length</th>\n",
       "    </tr>\n",
       "  </thead>\n",
       "  <tbody>\n",
       "    <tr>\n",
       "      <th>2267</th>\n",
       "      <td>The Gallows</td>\n",
       "      <td>NaN</td>\n",
       "      <td>415.56474</td>\n",
       "      <td>Extended Film</td>\n",
       "    </tr>\n",
       "  </tbody>\n",
       "</table>\n",
       "</div>"
      ],
      "text/plain": [
       "            title  runtime        roi runtime_length\n",
       "2267  The Gallows      NaN  415.56474  Extended Film"
      ]
     },
     "execution_count": 42,
     "metadata": {},
     "output_type": "execute_result"
    }
   ],
   "source": [
    "#find outlier\n",
    "high_roi_long = long_films[long_films['roi'] > 100]\n",
    "high_roi_long #exceptional movies #maybe we analyze them seperately? is there a commonality?"
   ]
  },
  {
   "cell_type": "code",
   "execution_count": 56,
   "metadata": {},
   "outputs": [],
   "source": [
    "#dropna \n",
    "long_films = long_films.dropna()\n",
    "long_films = long_films[long_films['roi'] <= 15]"
   ]
  },
  {
   "cell_type": "code",
   "execution_count": 80,
   "metadata": {},
   "outputs": [
    {
     "data": {
      "text/plain": [
       "''"
      ]
     },
     "execution_count": 80,
     "metadata": {},
     "output_type": "execute_result"
    },
    {
     "data": {
      "image/png": "[encoded data removed]",
      "text/plain": [
       "<Figure size 720x432 with 1 Axes>"
      ]
     },
     "metadata": {
      "needs_background": "light"
     },
     "output_type": "display_data"
    }
   ],
   "source": [
    "plt.figure(figsize = (10, 6))\n",
    "sns.histplot(data = long_films, x ='roi', bins = 20)\n",
    "sns.set_palette(\"mako\")\n",
    "plt.xlabel('roi')\n",
    "plt.ylabel('frequency')\n",
    ";"
   ]
  },
  {
   "cell_type": "code",
   "execution_count": 45,
   "metadata": {},
   "outputs": [
    {
     "data": {
      "text/html": [
       "<div>\n",
       "<style scoped>\n",
       "    .dataframe tbody tr th:only-of-type {\n",
       "        vertical-align: middle;\n",
       "    }\n",
       "\n",
       "    .dataframe tbody tr th {\n",
       "        vertical-align: top;\n",
       "    }\n",
       "\n",
       "    .dataframe thead th {\n",
       "        text-align: right;\n",
       "    }\n",
       "</style>\n",
       "<table border=\"1\" class=\"dataframe\">\n",
       "  <thead>\n",
       "    <tr style=\"text-align: right;\">\n",
       "      <th></th>\n",
       "      <th>title</th>\n",
       "      <th>runtime</th>\n",
       "      <th>roi</th>\n",
       "      <th>runtime_length</th>\n",
       "    </tr>\n",
       "  </thead>\n",
       "  <tbody>\n",
       "    <tr>\n",
       "      <th>1095</th>\n",
       "      <td>Maniac</td>\n",
       "      <td>160.0</td>\n",
       "      <td>27.571429</td>\n",
       "      <td>Extended Film</td>\n",
       "    </tr>\n",
       "    <tr>\n",
       "      <th>1905</th>\n",
       "      <td>Dangal</td>\n",
       "      <td>161.0</td>\n",
       "      <td>30.016276</td>\n",
       "      <td>Extended Film</td>\n",
       "    </tr>\n",
       "  </tbody>\n",
       "</table>\n",
       "</div>"
      ],
      "text/plain": [
       "       title  runtime        roi runtime_length\n",
       "1095  Maniac    160.0  27.571429  Extended Film\n",
       "1905  Dangal    161.0  30.016276  Extended Film"
      ]
     },
     "execution_count": 45,
     "metadata": {},
     "output_type": "execute_result"
    }
   ],
   "source": [
    "#find outlier\n",
    "high_roi_long = long_films[long_films['roi'] > 25]\n",
    "high_roi_long #exceptional movies #maybe we analyze them seperately? is there a commonality?"
   ]
  },
  {
   "cell_type": "markdown",
   "metadata": {},
   "source": [
    "## Stats by movie budget"
   ]
  },
  {
   "cell_type": "code",
   "execution_count": 46,
   "metadata": {},
   "outputs": [
    {
     "data": {
      "text/html": [
       "<div>\n",
       "<style scoped>\n",
       "    .dataframe tbody tr th:only-of-type {\n",
       "        vertical-align: middle;\n",
       "    }\n",
       "\n",
       "    .dataframe tbody tr th {\n",
       "        vertical-align: top;\n",
       "    }\n",
       "\n",
       "    .dataframe thead th {\n",
       "        text-align: right;\n",
       "    }\n",
       "</style>\n",
       "<table border=\"1\" class=\"dataframe\">\n",
       "  <thead>\n",
       "    <tr style=\"text-align: right;\">\n",
       "      <th></th>\n",
       "      <th>Unnamed: 0</th>\n",
       "      <th>title</th>\n",
       "      <th>runtime</th>\n",
       "      <th>primary_name</th>\n",
       "      <th>studio</th>\n",
       "      <th>popularity</th>\n",
       "      <th>vote_average</th>\n",
       "      <th>vote_count</th>\n",
       "      <th>release_date</th>\n",
       "      <th>production_budget</th>\n",
       "      <th>worldwide_gross</th>\n",
       "      <th>month</th>\n",
       "      <th>year</th>\n",
       "      <th>roi</th>\n",
       "      <th>genre</th>\n",
       "    </tr>\n",
       "  </thead>\n",
       "  <tbody>\n",
       "    <tr>\n",
       "      <th>0</th>\n",
       "      <td>19</td>\n",
       "      <td>Foodfight!</td>\n",
       "      <td>91.0</td>\n",
       "      <td>Lawrence Kasanoff</td>\n",
       "      <td>NaN</td>\n",
       "      <td>4.705</td>\n",
       "      <td>2.1</td>\n",
       "      <td>46.0</td>\n",
       "      <td>Dec 31, 2012</td>\n",
       "      <td>45000000.0</td>\n",
       "      <td>73706.0</td>\n",
       "      <td>12.0</td>\n",
       "      <td>2012.0</td>\n",
       "      <td>-0.998362</td>\n",
       "      <td>Comedy Animation Action Family</td>\n",
       "    </tr>\n",
       "    <tr>\n",
       "      <th>1</th>\n",
       "      <td>32</td>\n",
       "      <td>Mortal Kombat</td>\n",
       "      <td>NaN</td>\n",
       "      <td>Simon McQuoid</td>\n",
       "      <td>NaN</td>\n",
       "      <td>NaN</td>\n",
       "      <td>NaN</td>\n",
       "      <td>NaN</td>\n",
       "      <td>Aug 18, 1995</td>\n",
       "      <td>20000000.0</td>\n",
       "      <td>122133227.0</td>\n",
       "      <td>8.0</td>\n",
       "      <td>1995.0</td>\n",
       "      <td>5.106661</td>\n",
       "      <td>Fantasy Adventure Action</td>\n",
       "    </tr>\n",
       "    <tr>\n",
       "      <th>2</th>\n",
       "      <td>39</td>\n",
       "      <td>The Overnight</td>\n",
       "      <td>88.0</td>\n",
       "      <td>Jed I. Goodman</td>\n",
       "      <td>NaN</td>\n",
       "      <td>6.576</td>\n",
       "      <td>6.0</td>\n",
       "      <td>200.0</td>\n",
       "      <td>Jun 19, 2015</td>\n",
       "      <td>200000.0</td>\n",
       "      <td>1165996.0</td>\n",
       "      <td>6.0</td>\n",
       "      <td>2015.0</td>\n",
       "      <td>4.829980</td>\n",
       "      <td>Comedy Mystery</td>\n",
       "    </tr>\n",
       "    <tr>\n",
       "      <th>3</th>\n",
       "      <td>49</td>\n",
       "      <td>On the Road</td>\n",
       "      <td>124.0</td>\n",
       "      <td>Walter Salles</td>\n",
       "      <td>IFC</td>\n",
       "      <td>8.919</td>\n",
       "      <td>5.6</td>\n",
       "      <td>518.0</td>\n",
       "      <td>Mar 22, 2013</td>\n",
       "      <td>25000000.0</td>\n",
       "      <td>9313302.0</td>\n",
       "      <td>3.0</td>\n",
       "      <td>2013.0</td>\n",
       "      <td>-0.627468</td>\n",
       "      <td>Drama Romance Adventure</td>\n",
       "    </tr>\n",
       "    <tr>\n",
       "      <th>4</th>\n",
       "      <td>61</td>\n",
       "      <td>The Secret Life of Walter Mitty</td>\n",
       "      <td>114.0</td>\n",
       "      <td>Ben Stiller</td>\n",
       "      <td>Fox</td>\n",
       "      <td>10.743</td>\n",
       "      <td>7.1</td>\n",
       "      <td>4859.0</td>\n",
       "      <td>Dec 25, 2013</td>\n",
       "      <td>91000000.0</td>\n",
       "      <td>187861183.0</td>\n",
       "      <td>12.0</td>\n",
       "      <td>2013.0</td>\n",
       "      <td>1.064409</td>\n",
       "      <td>Comedy Drama Fantasy Adventure</td>\n",
       "    </tr>\n",
       "  </tbody>\n",
       "</table>\n",
       "</div>"
      ],
      "text/plain": [
       "   Unnamed: 0                            title  runtime       primary_name  \\\n",
       "0          19                       Foodfight!     91.0  Lawrence Kasanoff   \n",
       "1          32                    Mortal Kombat      NaN      Simon McQuoid   \n",
       "2          39                    The Overnight     88.0     Jed I. Goodman   \n",
       "3          49                      On the Road    124.0      Walter Salles   \n",
       "4          61  The Secret Life of Walter Mitty    114.0        Ben Stiller   \n",
       "\n",
       "  studio  popularity  vote_average  vote_count  release_date  \\\n",
       "0    NaN       4.705           2.1        46.0  Dec 31, 2012   \n",
       "1    NaN         NaN           NaN         NaN  Aug 18, 1995   \n",
       "2    NaN       6.576           6.0       200.0  Jun 19, 2015   \n",
       "3    IFC       8.919           5.6       518.0  Mar 22, 2013   \n",
       "4    Fox      10.743           7.1      4859.0  Dec 25, 2013   \n",
       "\n",
       "   production_budget  worldwide_gross  month    year       roi  \\\n",
       "0         45000000.0          73706.0   12.0  2012.0 -0.998362   \n",
       "1         20000000.0      122133227.0    8.0  1995.0  5.106661   \n",
       "2           200000.0        1165996.0    6.0  2015.0  4.829980   \n",
       "3         25000000.0        9313302.0    3.0  2013.0 -0.627468   \n",
       "4         91000000.0      187861183.0   12.0  2013.0  1.064409   \n",
       "\n",
       "                            genre  \n",
       "0  Comedy Animation Action Family  \n",
       "1        Fantasy Adventure Action  \n",
       "2                  Comedy Mystery  \n",
       "3         Drama Romance Adventure  \n",
       "4  Comedy Drama Fantasy Adventure  "
      ]
     },
     "execution_count": 46,
     "metadata": {},
     "output_type": "execute_result"
    }
   ],
   "source": [
    "df.head()"
   ]
  },
  {
   "cell_type": "code",
   "execution_count": 49,
   "metadata": {},
   "outputs": [],
   "source": [
    "#subsets\n",
    "under_ten = df[df['production_budget'] < 10000000]\n",
    "ten_hundo = df[(df['production_budget'] >= 10000000) & (df['production_budget'] <= 100000000)]\n",
    "over_hundo = df[df['production_budget'] > 100000000]"
   ]
  },
  {
   "cell_type": "code",
   "execution_count": 51,
   "metadata": {},
   "outputs": [
    {
     "name": "stderr",
     "output_type": "stream",
     "text": [
      "<ipython-input-51-a24f4a277d7c>:6: SettingWithCopyWarning: \n",
      "A value is trying to be set on a copy of a slice from a DataFrame.\n",
      "Try using .loc[row_indexer,col_indexer] = value instead\n",
      "\n",
      "See the caveats in the documentation: https://pandas.pydata.org/pandas-docs/stable/user_guide/indexing.html#returning-a-view-versus-a-copy\n",
      "  under_ten_month['season'] = under_ten_month['month'].apply(season)\n",
      "<ipython-input-51-a24f4a277d7c>:11: SettingWithCopyWarning: \n",
      "A value is trying to be set on a copy of a slice from a DataFrame.\n",
      "Try using .loc[row_indexer,col_indexer] = value instead\n",
      "\n",
      "See the caveats in the documentation: https://pandas.pydata.org/pandas-docs/stable/user_guide/indexing.html#returning-a-view-versus-a-copy\n",
      "  ten_hundo_month['season'] = ten_hundo_month['month'].apply(season)\n",
      "<ipython-input-51-a24f4a277d7c>:16: SettingWithCopyWarning: \n",
      "A value is trying to be set on a copy of a slice from a DataFrame.\n",
      "Try using .loc[row_indexer,col_indexer] = value instead\n",
      "\n",
      "See the caveats in the documentation: https://pandas.pydata.org/pandas-docs/stable/user_guide/indexing.html#returning-a-view-versus-a-copy\n",
      "  over_hundo_month['season'] = over_hundo_month['month'].apply(season)\n"
     ]
    }
   ],
   "source": [
    "# by month \n",
    "\n",
    "#under 10 mill\n",
    "under_ten_month = under_ten[['title', 'roi','month']]\n",
    "# apply and create new column\n",
    "under_ten_month['season'] = under_ten_month['month'].apply(season)\n",
    "\n",
    "#10 to 1000\n",
    "ten_hundo_month = ten_hundo[['title', 'roi','month']]\n",
    "# apply and create new column\n",
    "ten_hundo_month['season'] = ten_hundo_month['month'].apply(season)\n",
    "\n",
    "#over 100 mill\n",
    "over_hundo_month = over_hundo[['title', 'roi','month']]\n",
    "# apply and create new column\n",
    "over_hundo_month['season'] = over_hundo_month['month'].apply(season)"
   ]
  },
  {
   "cell_type": "code",
   "execution_count": 52,
   "metadata": {},
   "outputs": [
    {
     "data": {
      "text/html": [
       "<div>\n",
       "<style scoped>\n",
       "    .dataframe tbody tr th:only-of-type {\n",
       "        vertical-align: middle;\n",
       "    }\n",
       "\n",
       "    .dataframe tbody tr th {\n",
       "        vertical-align: top;\n",
       "    }\n",
       "\n",
       "    .dataframe thead th {\n",
       "        text-align: right;\n",
       "    }\n",
       "</style>\n",
       "<table border=\"1\" class=\"dataframe\">\n",
       "  <thead>\n",
       "    <tr style=\"text-align: right;\">\n",
       "      <th></th>\n",
       "      <th>title</th>\n",
       "      <th>roi</th>\n",
       "      <th>month</th>\n",
       "      <th>season</th>\n",
       "    </tr>\n",
       "  </thead>\n",
       "  <tbody>\n",
       "    <tr>\n",
       "      <th>6</th>\n",
       "      <td>Jurassic World</td>\n",
       "      <td>6.669092</td>\n",
       "      <td>6.0</td>\n",
       "      <td>Summer</td>\n",
       "    </tr>\n",
       "    <tr>\n",
       "      <th>9</th>\n",
       "      <td>John Carter</td>\n",
       "      <td>0.028284</td>\n",
       "      <td>3.0</td>\n",
       "      <td>Spring</td>\n",
       "    </tr>\n",
       "    <tr>\n",
       "      <th>12</th>\n",
       "      <td>The A-Team</td>\n",
       "      <td>0.611283</td>\n",
       "      <td>6.0</td>\n",
       "      <td>Summer</td>\n",
       "    </tr>\n",
       "    <tr>\n",
       "      <th>14</th>\n",
       "      <td>Real Steel</td>\n",
       "      <td>1.398912</td>\n",
       "      <td>10.0</td>\n",
       "      <td>Autumn</td>\n",
       "    </tr>\n",
       "    <tr>\n",
       "      <th>16</th>\n",
       "      <td>Toy Story 3</td>\n",
       "      <td>4.344398</td>\n",
       "      <td>6.0</td>\n",
       "      <td>Summer</td>\n",
       "    </tr>\n",
       "  </tbody>\n",
       "</table>\n",
       "</div>"
      ],
      "text/plain": [
       "             title       roi  month  season\n",
       "6   Jurassic World  6.669092    6.0  Summer\n",
       "9      John Carter  0.028284    3.0  Spring\n",
       "12      The A-Team  0.611283    6.0  Summer\n",
       "14      Real Steel  1.398912   10.0  Autumn\n",
       "16     Toy Story 3  4.344398    6.0  Summer"
      ]
     },
     "execution_count": 52,
     "metadata": {},
     "output_type": "execute_result"
    }
   ],
   "source": [
    "over_hundo_month.head()"
   ]
  },
  {
   "cell_type": "code",
   "execution_count": 53,
   "metadata": {
    "scrolled": true
   },
   "outputs": [
    {
     "data": {
      "image/png": "[encoded data removed]",
      "text/plain": [
       "<Figure size 1296x432 with 3 Axes>"
      ]
     },
     "metadata": {
      "needs_background": "light"
     },
     "output_type": "display_data"
    }
   ],
   "source": [
    "#plot\n",
    "\n",
    "fig, axes = plt.subplots(1, 3, figsize=(18, 6))\n",
    "\n",
    "#plot 1\n",
    "sns.barplot(x = 'month', y = 'roi', data = under_ten_month, ci = None, ax = axes[0])\n",
    "axes[0].set_title('ROI x Budget Under 10 Million')\n",
    "axes[0].set_xlabel('Month')\n",
    "axes[0].set_ylabel('ROI')\n",
    "\n",
    "#plot 2\n",
    "sns.barplot(x ='month', y ='roi', data = ten_hundo_month, ci=None, ax=axes[1])\n",
    "axes[1].set_title('ROI x Budget Between 10 Million and 100 Million')\n",
    "axes[1].set_xlabel('Month')\n",
    "axes[1].set_ylabel('ROI')\n",
    "\n",
    "#plot 3\n",
    "sns.barplot(x = 'month', y ='roi', data = over_hundo_month, ci=None, ax=axes[2])\n",
    "axes[2].set_title('ROI x Budget Over 100 Million')\n",
    "axes[2].set_xlabel('Month')\n",
    "axes[2].set_ylabel('ROI')\n",
    "\n",
    "# Adjust layout and display the plots\n",
    "plt.tight_layout()\n",
    "plt.show()"
   ]
  },
  {
   "cell_type": "code",
   "execution_count": 120,
   "metadata": {},
   "outputs": [
    {
     "data": {
      "image/png": "[encoded data removed]",
      "text/plain": [
       "<Figure size 1296x432 with 3 Axes>"
      ]
     },
     "metadata": {},
     "output_type": "display_data"
    }
   ],
   "source": [
    "#plot by season\n",
    "\n",
    "season_ord = ['Winter', 'Spring', 'Summer', 'Autumn']\n",
    "sns.set_style('darkgrid')\n",
    "sns.set_context('talk')\n",
    "\n",
    "fig, axes = plt.subplots(1, 3, figsize=(18, 6))\n",
    "\n",
    "#plot 1\n",
    "sns.barplot(x = 'season', y = 'roi', data = under_ten_month, ci = None, ax = axes[0], order = season_ord)\n",
    "axes[0].set_title('ROI x Budget Under 10 Million')\n",
    "axes[0].set_ylabel('ROI')\n",
    "axes[0].set_xlabel(None)\n",
    "\n",
    "#plot 2\n",
    "sns.barplot(x ='season', y ='roi', data = ten_hundo_month, ci=None, ax=axes[1], order = season_ord)\n",
    "axes[1].set_title('ROI x Budget Between 10 Million and 100 Million')\n",
    "axes[1].set_ylabel('ROI')\n",
    "axes[1].set_xlabel(None)\n",
    "\n",
    "#plot 3\n",
    "sns.barplot(x = 'season', y ='roi', data = over_hundo_month, ci=None, ax=axes[2], order = season_ord)\n",
    "axes[2].set_title('ROI x Budget Over 100 Million')\n",
    "axes[2].set_ylabel('ROI')\n",
    "axes[2].set_xlabel(None)\n",
    "\n",
    "#save fig\n",
    "plt.savefig('roi_by_budget.jpg')\n",
    "\n",
    "# display\n",
    "plt.tight_layout()\n",
    "plt.show()"
   ]
  },
  {
   "cell_type": "markdown",
   "metadata": {},
   "source": [
    "## Popularity x ROI"
   ]
  },
  {
   "cell_type": "code",
   "execution_count": 61,
   "metadata": {},
   "outputs": [],
   "source": [
    "df.head()\n",
    "pop = df[['title', 'popularity', \"vote_average\", 'vote_count', 'roi']]"
   ]
  },
  {
   "cell_type": "code",
   "execution_count": 67,
   "metadata": {
    "scrolled": true
   },
   "outputs": [
    {
     "data": {
      "text/html": [
       "<div>\n",
       "<style scoped>\n",
       "    .dataframe tbody tr th:only-of-type {\n",
       "        vertical-align: middle;\n",
       "    }\n",
       "\n",
       "    .dataframe tbody tr th {\n",
       "        vertical-align: top;\n",
       "    }\n",
       "\n",
       "    .dataframe thead th {\n",
       "        text-align: right;\n",
       "    }\n",
       "</style>\n",
       "<table border=\"1\" class=\"dataframe\">\n",
       "  <thead>\n",
       "    <tr style=\"text-align: right;\">\n",
       "      <th></th>\n",
       "      <th>title</th>\n",
       "      <th>popularity</th>\n",
       "      <th>vote_average</th>\n",
       "      <th>vote_count</th>\n",
       "      <th>roi</th>\n",
       "    </tr>\n",
       "  </thead>\n",
       "  <tbody>\n",
       "    <tr>\n",
       "      <th>0</th>\n",
       "      <td>Foodfight!</td>\n",
       "      <td>4.705</td>\n",
       "      <td>2.1</td>\n",
       "      <td>46.0</td>\n",
       "      <td>-0.998362</td>\n",
       "    </tr>\n",
       "    <tr>\n",
       "      <th>2</th>\n",
       "      <td>The Overnight</td>\n",
       "      <td>6.576</td>\n",
       "      <td>6.0</td>\n",
       "      <td>200.0</td>\n",
       "      <td>4.829980</td>\n",
       "    </tr>\n",
       "    <tr>\n",
       "      <th>3</th>\n",
       "      <td>On the Road</td>\n",
       "      <td>8.919</td>\n",
       "      <td>5.6</td>\n",
       "      <td>518.0</td>\n",
       "      <td>-0.627468</td>\n",
       "    </tr>\n",
       "    <tr>\n",
       "      <th>4</th>\n",
       "      <td>The Secret Life of Walter Mitty</td>\n",
       "      <td>10.743</td>\n",
       "      <td>7.1</td>\n",
       "      <td>4859.0</td>\n",
       "      <td>1.064409</td>\n",
       "    </tr>\n",
       "    <tr>\n",
       "      <th>5</th>\n",
       "      <td>A Walk Among the Tombstones</td>\n",
       "      <td>19.373</td>\n",
       "      <td>6.3</td>\n",
       "      <td>1685.0</td>\n",
       "      <td>1.218164</td>\n",
       "    </tr>\n",
       "  </tbody>\n",
       "</table>\n",
       "</div>"
      ],
      "text/plain": [
       "                             title  popularity  vote_average  vote_count  \\\n",
       "0                       Foodfight!       4.705           2.1        46.0   \n",
       "2                    The Overnight       6.576           6.0       200.0   \n",
       "3                      On the Road       8.919           5.6       518.0   \n",
       "4  The Secret Life of Walter Mitty      10.743           7.1      4859.0   \n",
       "5      A Walk Among the Tombstones      19.373           6.3      1685.0   \n",
       "\n",
       "        roi  \n",
       "0 -0.998362  \n",
       "2  4.829980  \n",
       "3 -0.627468  \n",
       "4  1.064409  \n",
       "5  1.218164  "
      ]
     },
     "execution_count": 67,
     "metadata": {},
     "output_type": "execute_result"
    }
   ],
   "source": [
    "#drop rows without pop data\n",
    "pop = pop[pop['popularity'].notnull()]\n",
    "\n",
    "pop.head()"
   ]
  },
  {
   "cell_type": "code",
   "execution_count": 68,
   "metadata": {},
   "outputs": [],
   "source": [
    "#normalize popularity\n",
    "def normalize_popularity(row):\n",
    "    vote_average = row['vote_average']\n",
    "    vote_count = row['vote_count']\n",
    "    \n",
    "    # make sure there is no zero \n",
    "    if vote_count != 0:\n",
    "        normalized_popularity = row['popularity'] * (vote_average / vote_count)\n",
    "    else:\n",
    "        normalized_popularity = 0  # Set to 0 if vote_count is 0\n",
    "    \n",
    "    return normalized_popularity\n",
    "\n",
    "# apply normalization\n",
    "pop['normalized_popularity'] = pop.apply(normalize_popularity, axis=1)"
   ]
  },
  {
   "cell_type": "code",
   "execution_count": 69,
   "metadata": {},
   "outputs": [
    {
     "data": {
      "text/html": [
       "<div>\n",
       "<style scoped>\n",
       "    .dataframe tbody tr th:only-of-type {\n",
       "        vertical-align: middle;\n",
       "    }\n",
       "\n",
       "    .dataframe tbody tr th {\n",
       "        vertical-align: top;\n",
       "    }\n",
       "\n",
       "    .dataframe thead th {\n",
       "        text-align: right;\n",
       "    }\n",
       "</style>\n",
       "<table border=\"1\" class=\"dataframe\">\n",
       "  <thead>\n",
       "    <tr style=\"text-align: right;\">\n",
       "      <th></th>\n",
       "      <th>title</th>\n",
       "      <th>popularity</th>\n",
       "      <th>vote_average</th>\n",
       "      <th>vote_count</th>\n",
       "      <th>roi</th>\n",
       "      <th>normalized_popularity</th>\n",
       "    </tr>\n",
       "  </thead>\n",
       "  <tbody>\n",
       "    <tr>\n",
       "      <th>0</th>\n",
       "      <td>Foodfight!</td>\n",
       "      <td>4.705</td>\n",
       "      <td>2.1</td>\n",
       "      <td>46.0</td>\n",
       "      <td>-0.998362</td>\n",
       "      <td>0.214793</td>\n",
       "    </tr>\n",
       "    <tr>\n",
       "      <th>2</th>\n",
       "      <td>The Overnight</td>\n",
       "      <td>6.576</td>\n",
       "      <td>6.0</td>\n",
       "      <td>200.0</td>\n",
       "      <td>4.829980</td>\n",
       "      <td>0.197280</td>\n",
       "    </tr>\n",
       "    <tr>\n",
       "      <th>3</th>\n",
       "      <td>On the Road</td>\n",
       "      <td>8.919</td>\n",
       "      <td>5.6</td>\n",
       "      <td>518.0</td>\n",
       "      <td>-0.627468</td>\n",
       "      <td>0.096422</td>\n",
       "    </tr>\n",
       "    <tr>\n",
       "      <th>4</th>\n",
       "      <td>The Secret Life of Walter Mitty</td>\n",
       "      <td>10.743</td>\n",
       "      <td>7.1</td>\n",
       "      <td>4859.0</td>\n",
       "      <td>1.064409</td>\n",
       "      <td>0.015698</td>\n",
       "    </tr>\n",
       "    <tr>\n",
       "      <th>5</th>\n",
       "      <td>A Walk Among the Tombstones</td>\n",
       "      <td>19.373</td>\n",
       "      <td>6.3</td>\n",
       "      <td>1685.0</td>\n",
       "      <td>1.218164</td>\n",
       "      <td>0.072433</td>\n",
       "    </tr>\n",
       "  </tbody>\n",
       "</table>\n",
       "</div>"
      ],
      "text/plain": [
       "                             title  popularity  vote_average  vote_count  \\\n",
       "0                       Foodfight!       4.705           2.1        46.0   \n",
       "2                    The Overnight       6.576           6.0       200.0   \n",
       "3                      On the Road       8.919           5.6       518.0   \n",
       "4  The Secret Life of Walter Mitty      10.743           7.1      4859.0   \n",
       "5      A Walk Among the Tombstones      19.373           6.3      1685.0   \n",
       "\n",
       "        roi  normalized_popularity  \n",
       "0 -0.998362               0.214793  \n",
       "2  4.829980               0.197280  \n",
       "3 -0.627468               0.096422  \n",
       "4  1.064409               0.015698  \n",
       "5  1.218164               0.072433  "
      ]
     },
     "execution_count": 69,
     "metadata": {},
     "output_type": "execute_result"
    }
   ],
   "source": [
    "pop.head()"
   ]
  },
  {
   "cell_type": "code",
   "execution_count": 70,
   "metadata": {
    "scrolled": true
   },
   "outputs": [
    {
     "name": "stdout",
     "output_type": "stream",
     "text": [
      "0.12146810990383176\n",
      "not statistically significant\n"
     ]
    }
   ],
   "source": [
    "# check correlation\n",
    "\n",
    "corr, pval = stats.pearsonr(pop['roi'], pop['normalized_popularity'])\n",
    "\n",
    "alpha = 0.05 \n",
    "print(pval)\n",
    "if pval < alpha:\n",
    "    print(\"statistically significant\")\n",
    "else:\n",
    "    print(\"not statistically significant\")"
   ]
  },
  {
   "cell_type": "code",
   "execution_count": 74,
   "metadata": {},
   "outputs": [],
   "source": [
    "pop = pop[pop['title'] != 'The Gallows']"
   ]
  },
  {
   "cell_type": "code",
   "execution_count": null,
   "metadata": {},
   "outputs": [],
   "source": []
  }
 ],
 "metadata": {
  "kernelspec": {
   "display_name": "Python (learn-env)",
   "language": "python",
   "name": "learn-env"
  },
  "language_info": {
   "codemirror_mode": {
    "name": "ipython",
    "version": 3
   },
   "file_extension": ".py",
   "mimetype": "text/x-python",
   "name": "python",
   "nbconvert_exporter": "python",
   "pygments_lexer": "ipython3",
   "version": "3.8.5"
  }
 },
 "nbformat": 4,
 "nbformat_minor": 4
}
