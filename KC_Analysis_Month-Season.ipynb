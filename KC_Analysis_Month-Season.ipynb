{
 "cells": [
  {
   "cell_type": "markdown",
   "metadata": {},
   "source": [
    "# Month/Season Analysis"
   ]
  },
  {
   "cell_type": "code",
   "execution_count": 60,
   "metadata": {},
   "outputs": [],
   "source": [
    "import pandas as pd\n",
    "import numpy as np\n",
    "import matplotlib.pyplot as plt\n",
    "import seaborn as sns\n",
    "import scipy.stats as stats\n",
    "\n",
    "sns.set_palette(\"mako\")\n",
    "\n",
    "#import sqlite3\n",
    "#conn = sqlite3.connect(‘.db’)\n",
    "#cursor = conn.cursor()"
   ]
  },
  {
   "cell_type": "code",
   "execution_count": 44,
   "metadata": {},
   "outputs": [],
   "source": [
    "df = pd.read_csv('final_df.csv')\n",
    "\n",
    "#drop dupes\n",
    "df.drop_duplicates(subset = 'title', keep = 'first', inplace = True)"
   ]
  },
  {
   "cell_type": "code",
   "execution_count": 45,
   "metadata": {},
   "outputs": [
    {
     "name": "stdout",
     "output_type": "stream",
     "text": [
      "<class 'pandas.core.frame.DataFrame'>\n",
      "Int64Index: 5698 entries, 0 to 8376\n",
      "Data columns (total 13 columns):\n",
      " #   Column             Non-Null Count  Dtype  \n",
      "---  ------             --------------  -----  \n",
      " 0   Unnamed: 0         5698 non-null   int64  \n",
      " 1   title              5698 non-null   object \n",
      " 2   runtime            2000 non-null   float64\n",
      " 3   primary_name       2143 non-null   object \n",
      " 4   popularity         1924 non-null   float64\n",
      " 5   vote_average       1924 non-null   float64\n",
      " 6   vote_count         1924 non-null   float64\n",
      " 7   production_budget  5698 non-null   float64\n",
      " 8   worldwide_gross    5698 non-null   float64\n",
      " 9   month              5698 non-null   float64\n",
      " 10  domestic_gross     5698 non-null   float64\n",
      " 11  roi                5698 non-null   float64\n",
      " 12  genre              2132 non-null   object \n",
      "dtypes: float64(9), int64(1), object(3)\n",
      "memory usage: 623.2+ KB\n"
     ]
    }
   ],
   "source": [
    "#initial\n",
    "df.head()\n",
    "df.shape\n",
    "df.info()"
   ]
  },
  {
   "cell_type": "code",
   "execution_count": 72,
   "metadata": {},
   "outputs": [],
   "source": [
    "#create subset\n",
    "month = df[['title', 'roi','month']]"
   ]
  },
  {
   "cell_type": "code",
   "execution_count": 73,
   "metadata": {},
   "outputs": [
    {
     "data": {
      "image/png": "[encoded data removed]",
      "text/plain": [
       "<Figure size 864x432 with 1 Axes>"
      ]
     },
     "metadata": {
      "needs_background": "light"
     },
     "output_type": "display_data"
    }
   ],
   "source": [
    "sns.set_palette(\"mako\")\n",
    "\n",
    "mako = sns.color_palette(\"mako\")\n",
    "\n",
    "#plot\n",
    "plt.figure(figsize=(12, 6))\n",
    "\n",
    "with sns.color_palette(mako):\n",
    "    sns.barplot(x='month', y='roi', data=month, ci=None)\n",
    "    \n",
    "plt.title('Month x ROI')\n",
    "plt.xlabel('Month')\n",
    "plt.ylabel('ROI');"
   ]
  },
  {
   "cell_type": "code",
   "execution_count": 74,
   "metadata": {},
   "outputs": [],
   "source": [
    "# catogorize month into season\n",
    "\n",
    "def season(month):\n",
    "    if 3.0 <= month <= 5.0:\n",
    "        return \"Spring\"\n",
    "    elif 6.0 <= month <= 8.0:\n",
    "        return \"Summer\"\n",
    "    elif 9.0 <= month <= 11.0:\n",
    "        return \"Autumn\"\n",
    "    else:\n",
    "        return \"Winter\""
   ]
  },
  {
   "cell_type": "code",
   "execution_count": 75,
   "metadata": {},
   "outputs": [
    {
     "name": "stderr",
     "output_type": "stream",
     "text": [
      "<ipython-input-75-c862b0774fed>:2: SettingWithCopyWarning: \n",
      "A value is trying to be set on a copy of a slice from a DataFrame.\n",
      "Try using .loc[row_indexer,col_indexer] = value instead\n",
      "\n",
      "See the caveats in the documentation: https://pandas.pydata.org/pandas-docs/stable/user_guide/indexing.html#returning-a-view-versus-a-copy\n",
      "  month['season'] = month['month'].apply(season)\n"
     ]
    },
    {
     "data": {
      "text/html": [
       "<div>\n",
       "<style scoped>\n",
       "    .dataframe tbody tr th:only-of-type {\n",
       "        vertical-align: middle;\n",
       "    }\n",
       "\n",
       "    .dataframe tbody tr th {\n",
       "        vertical-align: top;\n",
       "    }\n",
       "\n",
       "    .dataframe thead th {\n",
       "        text-align: right;\n",
       "    }\n",
       "</style>\n",
       "<table border=\"1\" class=\"dataframe\">\n",
       "  <thead>\n",
       "    <tr style=\"text-align: right;\">\n",
       "      <th></th>\n",
       "      <th>title</th>\n",
       "      <th>roi</th>\n",
       "      <th>month</th>\n",
       "      <th>season</th>\n",
       "    </tr>\n",
       "  </thead>\n",
       "  <tbody>\n",
       "    <tr>\n",
       "      <th>0</th>\n",
       "      <td>Foodfight!</td>\n",
       "      <td>-0.998362</td>\n",
       "      <td>12.0</td>\n",
       "      <td>Winter</td>\n",
       "    </tr>\n",
       "    <tr>\n",
       "      <th>1</th>\n",
       "      <td>Mortal Kombat</td>\n",
       "      <td>5.106661</td>\n",
       "      <td>8.0</td>\n",
       "      <td>Summer</td>\n",
       "    </tr>\n",
       "    <tr>\n",
       "      <th>2</th>\n",
       "      <td>The Overnight</td>\n",
       "      <td>4.829980</td>\n",
       "      <td>6.0</td>\n",
       "      <td>Summer</td>\n",
       "    </tr>\n",
       "    <tr>\n",
       "      <th>4</th>\n",
       "      <td>On the Road</td>\n",
       "      <td>-0.627468</td>\n",
       "      <td>3.0</td>\n",
       "      <td>Spring</td>\n",
       "    </tr>\n",
       "    <tr>\n",
       "      <th>10</th>\n",
       "      <td>The Secret Life of Walter Mitty</td>\n",
       "      <td>1.064409</td>\n",
       "      <td>12.0</td>\n",
       "      <td>Winter</td>\n",
       "    </tr>\n",
       "  </tbody>\n",
       "</table>\n",
       "</div>"
      ],
      "text/plain": [
       "                              title       roi  month  season\n",
       "0                        Foodfight! -0.998362   12.0  Winter\n",
       "1                     Mortal Kombat  5.106661    8.0  Summer\n",
       "2                     The Overnight  4.829980    6.0  Summer\n",
       "4                       On the Road -0.627468    3.0  Spring\n",
       "10  The Secret Life of Walter Mitty  1.064409   12.0  Winter"
      ]
     },
     "execution_count": 75,
     "metadata": {},
     "output_type": "execute_result"
    }
   ],
   "source": [
    "# apply and create new column\n",
    "month['season'] = month['month'].apply(season)\n",
    "\n",
    "month.head()"
   ]
  },
  {
   "cell_type": "code",
   "execution_count": 85,
   "metadata": {},
   "outputs": [],
   "source": [
    "#create month for anova\n",
    "month_map = {\n",
    "    1.0: 'January',\n",
    "    2.0: 'February',\n",
    "    3.0: 'March',\n",
    "    4.0: 'April',\n",
    "    5.0: 'May',\n",
    "    6.0: 'June',\n",
    "    7.0: 'July',\n",
    "    8.0: 'August',\n",
    "    9.0: 'September',\n",
    "    10.0: 'October',\n",
    "    11.0: 'November',\n",
    "    12.0: 'December'\n",
    "}"
   ]
  },
  {
   "cell_type": "code",
   "execution_count": 89,
   "metadata": {},
   "outputs": [
    {
     "name": "stderr",
     "output_type": "stream",
     "text": [
      "<ipython-input-89-a53ae3941abf>:1: SettingWithCopyWarning: \n",
      "A value is trying to be set on a copy of a slice from a DataFrame.\n",
      "Try using .loc[row_indexer,col_indexer] = value instead\n",
      "\n",
      "See the caveats in the documentation: https://pandas.pydata.org/pandas-docs/stable/user_guide/indexing.html#returning-a-view-versus-a-copy\n",
      "  month['official_month'] = month['month'].map(month_map)\n"
     ]
    },
    {
     "data": {
      "text/html": [
       "<div>\n",
       "<style scoped>\n",
       "    .dataframe tbody tr th:only-of-type {\n",
       "        vertical-align: middle;\n",
       "    }\n",
       "\n",
       "    .dataframe tbody tr th {\n",
       "        vertical-align: top;\n",
       "    }\n",
       "\n",
       "    .dataframe thead th {\n",
       "        text-align: right;\n",
       "    }\n",
       "</style>\n",
       "<table border=\"1\" class=\"dataframe\">\n",
       "  <thead>\n",
       "    <tr style=\"text-align: right;\">\n",
       "      <th></th>\n",
       "      <th>title</th>\n",
       "      <th>roi</th>\n",
       "      <th>month</th>\n",
       "      <th>season</th>\n",
       "      <th>official_month</th>\n",
       "    </tr>\n",
       "  </thead>\n",
       "  <tbody>\n",
       "    <tr>\n",
       "      <th>0</th>\n",
       "      <td>Foodfight!</td>\n",
       "      <td>-0.998362</td>\n",
       "      <td>12.0</td>\n",
       "      <td>Winter</td>\n",
       "      <td>December</td>\n",
       "    </tr>\n",
       "    <tr>\n",
       "      <th>1</th>\n",
       "      <td>Mortal Kombat</td>\n",
       "      <td>5.106661</td>\n",
       "      <td>8.0</td>\n",
       "      <td>Summer</td>\n",
       "      <td>August</td>\n",
       "    </tr>\n",
       "    <tr>\n",
       "      <th>2</th>\n",
       "      <td>The Overnight</td>\n",
       "      <td>4.829980</td>\n",
       "      <td>6.0</td>\n",
       "      <td>Summer</td>\n",
       "      <td>June</td>\n",
       "    </tr>\n",
       "    <tr>\n",
       "      <th>4</th>\n",
       "      <td>On the Road</td>\n",
       "      <td>-0.627468</td>\n",
       "      <td>3.0</td>\n",
       "      <td>Spring</td>\n",
       "      <td>March</td>\n",
       "    </tr>\n",
       "    <tr>\n",
       "      <th>10</th>\n",
       "      <td>The Secret Life of Walter Mitty</td>\n",
       "      <td>1.064409</td>\n",
       "      <td>12.0</td>\n",
       "      <td>Winter</td>\n",
       "      <td>December</td>\n",
       "    </tr>\n",
       "    <tr>\n",
       "      <th>...</th>\n",
       "      <td>...</td>\n",
       "      <td>...</td>\n",
       "      <td>...</td>\n",
       "      <td>...</td>\n",
       "      <td>...</td>\n",
       "    </tr>\n",
       "    <tr>\n",
       "      <th>8372</th>\n",
       "      <td>The Mongol King</td>\n",
       "      <td>-0.871429</td>\n",
       "      <td>12.0</td>\n",
       "      <td>Winter</td>\n",
       "      <td>December</td>\n",
       "    </tr>\n",
       "    <tr>\n",
       "      <th>8373</th>\n",
       "      <td>Following</td>\n",
       "      <td>39.082500</td>\n",
       "      <td>4.0</td>\n",
       "      <td>Spring</td>\n",
       "      <td>April</td>\n",
       "    </tr>\n",
       "    <tr>\n",
       "      <th>8374</th>\n",
       "      <td>Return to the Land of Wonders</td>\n",
       "      <td>-0.732400</td>\n",
       "      <td>7.0</td>\n",
       "      <td>Summer</td>\n",
       "      <td>July</td>\n",
       "    </tr>\n",
       "    <tr>\n",
       "      <th>8375</th>\n",
       "      <td>A Plague So Pleasant</td>\n",
       "      <td>-1.000000</td>\n",
       "      <td>9.0</td>\n",
       "      <td>Autumn</td>\n",
       "      <td>September</td>\n",
       "    </tr>\n",
       "    <tr>\n",
       "      <th>8376</th>\n",
       "      <td>My Date With Drew</td>\n",
       "      <td>163.582727</td>\n",
       "      <td>8.0</td>\n",
       "      <td>Summer</td>\n",
       "      <td>August</td>\n",
       "    </tr>\n",
       "  </tbody>\n",
       "</table>\n",
       "<p>5698 rows × 5 columns</p>\n",
       "</div>"
      ],
      "text/plain": [
       "                                title         roi  month  season  \\\n",
       "0                          Foodfight!   -0.998362   12.0  Winter   \n",
       "1                       Mortal Kombat    5.106661    8.0  Summer   \n",
       "2                       The Overnight    4.829980    6.0  Summer   \n",
       "4                         On the Road   -0.627468    3.0  Spring   \n",
       "10    The Secret Life of Walter Mitty    1.064409   12.0  Winter   \n",
       "...                               ...         ...    ...     ...   \n",
       "8372                  The Mongol King   -0.871429   12.0  Winter   \n",
       "8373                        Following   39.082500    4.0  Spring   \n",
       "8374    Return to the Land of Wonders   -0.732400    7.0  Summer   \n",
       "8375             A Plague So Pleasant   -1.000000    9.0  Autumn   \n",
       "8376                My Date With Drew  163.582727    8.0  Summer   \n",
       "\n",
       "     official_month  \n",
       "0          December  \n",
       "1            August  \n",
       "2              June  \n",
       "4             March  \n",
       "10         December  \n",
       "...             ...  \n",
       "8372       December  \n",
       "8373          April  \n",
       "8374           July  \n",
       "8375      September  \n",
       "8376         August  \n",
       "\n",
       "[5698 rows x 5 columns]"
      ]
     },
     "execution_count": 89,
     "metadata": {},
     "output_type": "execute_result"
    }
   ],
   "source": [
    "month['official_month'] = month['month'].map(month_map)"
   ]
  },
  {
   "cell_type": "code",
   "execution_count": 50,
   "metadata": {},
   "outputs": [
    {
     "data": {
      "image/png": "[encoded data removed]",
      "text/plain": [
       "<Figure size 864x432 with 1 Axes>"
      ]
     },
     "metadata": {
      "needs_background": "light"
     },
     "output_type": "display_data"
    }
   ],
   "source": [
    "#plot\n",
    "plt.figure(figsize = (12,6))\n",
    "sns.barplot(x = 'season', y = 'roi', data = month);"
   ]
  },
  {
   "cell_type": "code",
   "execution_count": null,
   "metadata": {},
   "outputs": [],
   "source": []
  },
  {
   "cell_type": "code",
   "execution_count": 76,
   "metadata": {},
   "outputs": [],
   "source": [
    "#I'm an idiot"
   ]
  },
  {
   "cell_type": "code",
   "execution_count": 58,
   "metadata": {},
   "outputs": [],
   "source": [
    "roi = month['roi']\n",
    "month_col = month['month']\n",
    "szn = month['season']"
   ]
  },
  {
   "cell_type": "code",
   "execution_count": 82,
   "metadata": {},
   "outputs": [],
   "source": [
    "#anova\n",
    "\n",
    "categories = [group['roi'] for name, group in month.groupby('season')]\n",
    "f_stat, pval = stats.f_oneway(*categories)"
   ]
  },
  {
   "cell_type": "code",
   "execution_count": 84,
   "metadata": {},
   "outputs": [
    {
     "name": "stdout",
     "output_type": "stream",
     "text": [
      "0.047805058866785696\n",
      "statistically significant\n"
     ]
    }
   ],
   "source": [
    "alpha = 0.05 \n",
    "print(pval)\n",
    "if pval < alpha:\n",
    "    print(\"statistically significant\")\n",
    "else:\n",
    "    print(\"not statistically significant\")"
   ]
  },
  {
   "cell_type": "code",
   "execution_count": null,
   "metadata": {},
   "outputs": [],
   "source": []
  },
  {
   "cell_type": "code",
   "execution_count": null,
   "metadata": {},
   "outputs": [],
   "source": [
    "#test for significance in roi and month "
   ]
  },
  {
   "cell_type": "code",
   "execution_count": 90,
   "metadata": {},
   "outputs": [],
   "source": [
    "#anova\n",
    "\n",
    "cat2 = [group['roi'] for name, group in month.groupby('official_month')]\n",
    "f_stat, pval = stats.f_oneway(*cat2)"
   ]
  },
  {
   "cell_type": "code",
   "execution_count": 91,
   "metadata": {},
   "outputs": [
    {
     "name": "stdout",
     "output_type": "stream",
     "text": [
      "0.44279897612583313\n",
      "not statistically significant\n"
     ]
    }
   ],
   "source": [
    "alpha = 0.05 \n",
    "print(pval)\n",
    "if pval < alpha:\n",
    "    print(\"statistically significant\")\n",
    "else:\n",
    "    print(\"not statistically significant\")"
   ]
  },
  {
   "cell_type": "code",
   "execution_count": null,
   "metadata": {},
   "outputs": [],
   "source": []
  }
 ],
 "metadata": {
  "kernelspec": {
   "display_name": "Python (learn-env)",
   "language": "python",
   "name": "learn-env"
  },
  "language_info": {
   "codemirror_mode": {
    "name": "ipython",
    "version": 3
   },
   "file_extension": ".py",
   "mimetype": "text/x-python",
   "name": "python",
   "nbconvert_exporter": "python",
   "pygments_lexer": "ipython3",
   "version": "3.8.5"
  }
 },
 "nbformat": 4,
 "nbformat_minor": 4
}
