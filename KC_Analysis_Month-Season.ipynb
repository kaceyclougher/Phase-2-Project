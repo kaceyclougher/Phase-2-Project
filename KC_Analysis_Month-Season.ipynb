{
 "cells": [
  {
   "cell_type": "markdown",
   "metadata": {},
   "source": [
    "# Month/Season Analysis"
   ]
  },
  {
   "cell_type": "code",
   "execution_count": 31,
   "metadata": {},
   "outputs": [],
   "source": [
    "import pandas as pd\n",
    "import numpy as np\n",
    "import matplotlib.pyplot as plt\n",
    "import seaborn as sns\n",
    "import scipy.stats as stats\n",
    "\n",
    "sns.set_palette(\"mako\")\n",
    "\n",
    "#import sqlite3\n",
    "#conn = sqlite3.connect(‘.db’)\n",
    "#cursor = conn.cursor()"
   ]
  },
  {
   "cell_type": "code",
   "execution_count": 32,
   "metadata": {},
   "outputs": [],
   "source": [
    "df = pd.read_csv('final_df.csv')\n",
    "\n",
    "#drop dupes\n",
    "df.drop_duplicates(subset = 'title', keep = 'first', inplace = True)"
   ]
  },
  {
   "cell_type": "code",
   "execution_count": 39,
   "metadata": {},
   "outputs": [],
   "source": [
    "df = df.dropna(subset = ['genre'])"
   ]
  },
  {
   "cell_type": "code",
   "execution_count": 40,
   "metadata": {},
   "outputs": [
    {
     "data": {
      "text/plain": [
       "0"
      ]
     },
     "execution_count": 40,
     "metadata": {},
     "output_type": "execute_result"
    }
   ],
   "source": [
    "df['genre'].isna().sum()"
   ]
  },
  {
   "cell_type": "code",
   "execution_count": 28,
   "metadata": {},
   "outputs": [
    {
     "data": {
      "text/plain": [
       "(5698, 13)"
      ]
     },
     "execution_count": 28,
     "metadata": {},
     "output_type": "execute_result"
    }
   ],
   "source": [
    "df.shape"
   ]
  },
  {
   "cell_type": "code",
   "execution_count": 41,
   "metadata": {},
   "outputs": [
    {
     "name": "stdout",
     "output_type": "stream",
     "text": [
      "<class 'pandas.core.frame.DataFrame'>\n",
      "Int64Index: 2132 entries, 0 to 4775\n",
      "Data columns (total 13 columns):\n",
      " #   Column             Non-Null Count  Dtype  \n",
      "---  ------             --------------  -----  \n",
      " 0   Unnamed: 0         2132 non-null   int64  \n",
      " 1   title              2132 non-null   object \n",
      " 2   runtime            1994 non-null   float64\n",
      " 3   primary_name       2132 non-null   object \n",
      " 4   popularity         1660 non-null   float64\n",
      " 5   vote_average       1660 non-null   float64\n",
      " 6   vote_count         1660 non-null   float64\n",
      " 7   production_budget  2132 non-null   float64\n",
      " 8   worldwide_gross    2132 non-null   float64\n",
      " 9   month              2132 non-null   float64\n",
      " 10  domestic_gross     2132 non-null   float64\n",
      " 11  roi                2132 non-null   float64\n",
      " 12  genre              2132 non-null   object \n",
      "dtypes: float64(9), int64(1), object(3)\n",
      "memory usage: 233.2+ KB\n"
     ]
    }
   ],
   "source": [
    "#initial\n",
    "df.head()\n",
    "df.shape\n",
    "df.info()"
   ]
  },
  {
   "cell_type": "code",
   "execution_count": 42,
   "metadata": {},
   "outputs": [],
   "source": [
    "#create subset\n",
    "month = df[['title', 'roi','month']]"
   ]
  },
  {
   "cell_type": "code",
   "execution_count": 43,
   "metadata": {},
   "outputs": [
    {
     "data": {
      "image/png": "[encoded data removed]",
      "text/plain": [
       "<Figure size 864x432 with 1 Axes>"
      ]
     },
     "metadata": {
      "needs_background": "light"
     },
     "output_type": "display_data"
    }
   ],
   "source": [
    "sns.set_palette(\"mako\")\n",
    "\n",
    "mako = sns.color_palette(\"mako\")\n",
    "\n",
    "#plot\n",
    "plt.figure(figsize=(12, 6))\n",
    "\n",
    "with sns.color_palette(mako):\n",
    "    sns.barplot(x='month', y='roi', data=month, ci=None)\n",
    "    \n",
    "plt.title('Month x ROI')\n",
    "plt.xlabel('Month')\n",
    "plt.ylabel('ROI');"
   ]
  },
  {
   "cell_type": "code",
   "execution_count": 44,
   "metadata": {},
   "outputs": [],
   "source": [
    "# catogorize month into season\n",
    "\n",
    "def season(month):\n",
    "    if 3.0 <= month <= 5.0:\n",
    "        return \"Spring\"\n",
    "    elif 6.0 <= month <= 8.0:\n",
    "        return \"Summer\"\n",
    "    elif 9.0 <= month <= 11.0:\n",
    "        return \"Autumn\"\n",
    "    else:\n",
    "        return \"Winter\""
   ]
  },
  {
   "cell_type": "code",
   "execution_count": 45,
   "metadata": {},
   "outputs": [
    {
     "name": "stderr",
     "output_type": "stream",
     "text": [
      "<ipython-input-45-c862b0774fed>:2: SettingWithCopyWarning: \n",
      "A value is trying to be set on a copy of a slice from a DataFrame.\n",
      "Try using .loc[row_indexer,col_indexer] = value instead\n",
      "\n",
      "See the caveats in the documentation: https://pandas.pydata.org/pandas-docs/stable/user_guide/indexing.html#returning-a-view-versus-a-copy\n",
      "  month['season'] = month['month'].apply(season)\n"
     ]
    },
    {
     "data": {
      "text/html": [
       "<div>\n",
       "<style scoped>\n",
       "    .dataframe tbody tr th:only-of-type {\n",
       "        vertical-align: middle;\n",
       "    }\n",
       "\n",
       "    .dataframe tbody tr th {\n",
       "        vertical-align: top;\n",
       "    }\n",
       "\n",
       "    .dataframe thead th {\n",
       "        text-align: right;\n",
       "    }\n",
       "</style>\n",
       "<table border=\"1\" class=\"dataframe\">\n",
       "  <thead>\n",
       "    <tr style=\"text-align: right;\">\n",
       "      <th></th>\n",
       "      <th>title</th>\n",
       "      <th>roi</th>\n",
       "      <th>month</th>\n",
       "      <th>season</th>\n",
       "    </tr>\n",
       "  </thead>\n",
       "  <tbody>\n",
       "    <tr>\n",
       "      <th>0</th>\n",
       "      <td>Foodfight!</td>\n",
       "      <td>-0.998362</td>\n",
       "      <td>12.0</td>\n",
       "      <td>Winter</td>\n",
       "    </tr>\n",
       "    <tr>\n",
       "      <th>1</th>\n",
       "      <td>Mortal Kombat</td>\n",
       "      <td>5.106661</td>\n",
       "      <td>8.0</td>\n",
       "      <td>Summer</td>\n",
       "    </tr>\n",
       "    <tr>\n",
       "      <th>4</th>\n",
       "      <td>On the Road</td>\n",
       "      <td>-0.627468</td>\n",
       "      <td>3.0</td>\n",
       "      <td>Spring</td>\n",
       "    </tr>\n",
       "    <tr>\n",
       "      <th>10</th>\n",
       "      <td>The Secret Life of Walter Mitty</td>\n",
       "      <td>1.064409</td>\n",
       "      <td>12.0</td>\n",
       "      <td>Winter</td>\n",
       "    </tr>\n",
       "    <tr>\n",
       "      <th>11</th>\n",
       "      <td>A Walk Among the Tombstones</td>\n",
       "      <td>1.218164</td>\n",
       "      <td>9.0</td>\n",
       "      <td>Autumn</td>\n",
       "    </tr>\n",
       "  </tbody>\n",
       "</table>\n",
       "</div>"
      ],
      "text/plain": [
       "                              title       roi  month  season\n",
       "0                        Foodfight! -0.998362   12.0  Winter\n",
       "1                     Mortal Kombat  5.106661    8.0  Summer\n",
       "4                       On the Road -0.627468    3.0  Spring\n",
       "10  The Secret Life of Walter Mitty  1.064409   12.0  Winter\n",
       "11      A Walk Among the Tombstones  1.218164    9.0  Autumn"
      ]
     },
     "execution_count": 45,
     "metadata": {},
     "output_type": "execute_result"
    }
   ],
   "source": [
    "# apply and create new column\n",
    "month['season'] = month['month'].apply(season)\n",
    "\n",
    "month.head()"
   ]
  },
  {
   "cell_type": "code",
   "execution_count": 46,
   "metadata": {},
   "outputs": [],
   "source": [
    "#create month for anova\n",
    "month_map = {\n",
    "    1.0: 'January',\n",
    "    2.0: 'February',\n",
    "    3.0: 'March',\n",
    "    4.0: 'April',\n",
    "    5.0: 'May',\n",
    "    6.0: 'June',\n",
    "    7.0: 'July',\n",
    "    8.0: 'August',\n",
    "    9.0: 'September',\n",
    "    10.0: 'October',\n",
    "    11.0: 'November',\n",
    "    12.0: 'December'\n",
    "}"
   ]
  },
  {
   "cell_type": "code",
   "execution_count": 47,
   "metadata": {},
   "outputs": [
    {
     "name": "stderr",
     "output_type": "stream",
     "text": [
      "<ipython-input-47-88c0988393a2>:1: SettingWithCopyWarning: \n",
      "A value is trying to be set on a copy of a slice from a DataFrame.\n",
      "Try using .loc[row_indexer,col_indexer] = value instead\n",
      "\n",
      "See the caveats in the documentation: https://pandas.pydata.org/pandas-docs/stable/user_guide/indexing.html#returning-a-view-versus-a-copy\n",
      "  month['official_month'] = month['month'].map(month_map)\n"
     ]
    }
   ],
   "source": [
    "month['official_month'] = month['month'].map(month_map)"
   ]
  },
  {
   "cell_type": "code",
   "execution_count": 48,
   "metadata": {},
   "outputs": [
    {
     "data": {
      "image/png": "[encoded data removed]",
      "text/plain": [
       "<Figure size 864x432 with 1 Axes>"
      ]
     },
     "metadata": {
      "needs_background": "light"
     },
     "output_type": "display_data"
    }
   ],
   "source": [
    "#plot\n",
    "plt.figure(figsize = (12,6))\n",
    "sns.barplot(x = 'season', y = 'roi', data = month);"
   ]
  },
  {
   "cell_type": "code",
   "execution_count": null,
   "metadata": {},
   "outputs": [],
   "source": []
  },
  {
   "cell_type": "code",
   "execution_count": 49,
   "metadata": {},
   "outputs": [],
   "source": [
    "#I'm an idiot"
   ]
  },
  {
   "cell_type": "code",
   "execution_count": 50,
   "metadata": {},
   "outputs": [],
   "source": [
    "roi = month['roi']\n",
    "month_col = month['month']\n",
    "szn = month['season']"
   ]
  },
  {
   "cell_type": "code",
   "execution_count": 51,
   "metadata": {},
   "outputs": [],
   "source": [
    "#anova\n",
    "\n",
    "categories = [group['roi'] for name, group in month.groupby('season')]\n",
    "f_stat, pval = stats.f_oneway(*categories)"
   ]
  },
  {
   "cell_type": "code",
   "execution_count": 52,
   "metadata": {},
   "outputs": [
    {
     "name": "stdout",
     "output_type": "stream",
     "text": [
      "0.45868834363789646\n",
      "not statistically significant\n"
     ]
    }
   ],
   "source": [
    "alpha = 0.05 \n",
    "print(pval)\n",
    "if pval < alpha:\n",
    "    print(\"statistically significant\")\n",
    "else:\n",
    "    print(\"not statistically significant\")"
   ]
  },
  {
   "cell_type": "code",
   "execution_count": null,
   "metadata": {},
   "outputs": [],
   "source": []
  },
  {
   "cell_type": "code",
   "execution_count": 53,
   "metadata": {},
   "outputs": [],
   "source": [
    "#test for significance in roi and month "
   ]
  },
  {
   "cell_type": "code",
   "execution_count": 54,
   "metadata": {},
   "outputs": [],
   "source": [
    "#anova\n",
    "\n",
    "cat2 = [group['roi'] for name, group in month.groupby('official_month')]\n",
    "f_stat, pval = stats.f_oneway(*cat2)"
   ]
  },
  {
   "cell_type": "code",
   "execution_count": 55,
   "metadata": {},
   "outputs": [
    {
     "name": "stdout",
     "output_type": "stream",
     "text": [
      "0.49819568427769545\n",
      "not statistically significant\n"
     ]
    }
   ],
   "source": [
    "alpha = 0.05 \n",
    "print(pval)\n",
    "if pval < alpha:\n",
    "    print(\"statistically significant\")\n",
    "else:\n",
    "    print(\"not statistically significant\")"
   ]
  },
  {
   "cell_type": "code",
   "execution_count": null,
   "metadata": {},
   "outputs": [],
   "source": []
  }
 ],
 "metadata": {
  "kernelspec": {
   "display_name": "Python (learn-env)",
   "language": "python",
   "name": "learn-env"
  },
  "language_info": {
   "codemirror_mode": {
    "name": "ipython",
    "version": 3
   },
   "file_extension": ".py",
   "mimetype": "text/x-python",
   "name": "python",
   "nbconvert_exporter": "python",
   "pygments_lexer": "ipython3",
   "version": "3.8.5"
  }
 },
 "nbformat": 4,
 "nbformat_minor": 4
}
