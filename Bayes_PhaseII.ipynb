{
 "cells": [
  {
   "cell_type": "markdown",
   "metadata": {},
   "source": [
    "## Peace. Love. Bayes. "
   ]
  },
  {
   "cell_type": "markdown",
   "metadata": {},
   "source": [
    "Using Bayes to calculate the probability of success given the probability of success (pos ROI) per genre, season, and director."
   ]
  },
  {
   "cell_type": "code",
   "execution_count": 2,
   "metadata": {},
   "outputs": [],
   "source": [
    "import pandas as pd\n",
    "import numpy as np\n",
    "import matplotlib.pyplot as plt\n",
    "import seaborn as sns\n",
    "import scipy.stats as stats"
   ]
  },
  {
   "cell_type": "code",
   "execution_count": 3,
   "metadata": {},
   "outputs": [],
   "source": [
    "#data import\n",
    "df = pd.read_csv('final.csv')"
   ]
  },
  {
   "cell_type": "code",
   "execution_count": 7,
   "metadata": {},
   "outputs": [],
   "source": [
    "#create season column\n",
    "\n",
    "# catogorize month into season\n",
    "\n",
    "def season(month):\n",
    "    if 3.0 <= month <= 5.0:\n",
    "        return \"Spring\"\n",
    "    elif 6.0 <= month <= 8.0:\n",
    "        return \"Summer\"\n",
    "    elif 9.0 <= month <= 11.0:\n",
    "        return \"Autumn\"\n",
    "    else:\n",
    "        return \"Winter\"\n",
    "    \n",
    "#apply and make new column\n",
    "df['season'] = df['month'].apply(season)"
   ]
  },
  {
   "cell_type": "code",
   "execution_count": 16,
   "metadata": {},
   "outputs": [],
   "source": [
    "# create subset with only movies with runtime data\n",
    "runtime = df[['title','runtime', 'roi']]\n",
    "runtime = runtime.dropna()"
   ]
  },
  {
   "cell_type": "code",
   "execution_count": 17,
   "metadata": {},
   "outputs": [],
   "source": [
    "#create runtime column\n",
    "# catogorize runtime into length\n",
    "\n",
    "def runtime_cat(runtime):\n",
    "    if 0.0 <= runtime <= 40.0:\n",
    "        return \"Films less than 40 Minutes\"\n",
    "    elif 41.0 <= runtime <= 150.0:\n",
    "        return \"Films between 40 minutes and 150 minutes\"\n",
    "    else:\n",
    "        return \"Films longer than 150 minutes\"\n",
    "    \n",
    "#apply and make new column\n",
    "runtime['runtime_length'] = runtime['runtime'].apply(runtime_cat)"
   ]
  },
  {
   "cell_type": "markdown",
   "metadata": {},
   "source": [
    "## P(Positive ROI) & P(Negative ROI)"
   ]
  },
  {
   "cell_type": "code",
   "execution_count": 8,
   "metadata": {
    "scrolled": true
   },
   "outputs": [
    {
     "name": "stdout",
     "output_type": "stream",
     "text": [
      "P(Positive ROI): 0.6859925788497218\n",
      "P(Negative ROI): 0.3140074211502783\n"
     ]
    }
   ],
   "source": [
    "# calc P(Positive ROI) & P(Negative ROI)\n",
    "\n",
    "# P(pos)\n",
    "p_pos_roi = (df['roi'] > 0).mean()\n",
    "\n",
    "# P(neg)\n",
    "p_neg_roi = (df['roi'] < 0).mean()\n",
    "\n",
    "print(\"P(Positive ROI):\", p_pos_roi)\n",
    "print(\"P(Negative ROI):\", p_neg_roi)"
   ]
  },
  {
   "cell_type": "markdown",
   "metadata": {},
   "source": [
    "## P(Pos|Season) & P(Neg|Season)"
   ]
  },
  {
   "cell_type": "code",
   "execution_count": 13,
   "metadata": {},
   "outputs": [
    {
     "name": "stdout",
     "output_type": "stream",
     "text": [
      "Probability of a movie being debuted in each season:\n",
      "Autumn    0.277829\n",
      "Summer    0.243506\n",
      "Spring    0.241651\n",
      "Winter    0.237013\n",
      "Name: season, dtype: float64\n"
     ]
    }
   ],
   "source": [
    "# prob of each season\n",
    "total_movies = len(df)\n",
    "season_counts = df['season'].value_counts()\n",
    "season_probabilities = season_counts / total_movies\n",
    "\n",
    "print(\"Probability of a movie being debuted in each season:\")\n",
    "print(season_probabilities)"
   ]
  },
  {
   "cell_type": "code",
   "execution_count": 15,
   "metadata": {},
   "outputs": [
    {
     "name": "stdout",
     "output_type": "stream",
     "text": [
      "Probab of a positive ROI given each season:\n",
      "{'Winter': 0.6927592954990215, 'Summer': 0.7238095238095238, 'Spring': 0.6660268714011516, 'Autumn': 0.664440734557596}\n",
      "\n",
      "Prob of a negative ROI given each season:\n",
      "{'Winter': 0.30724070450097846, 'Summer': 0.2761904761904762, 'Spring': 0.33397312859884837, 'Autumn': 0.335559265442404}\n"
     ]
    }
   ],
   "source": [
    "# \n",
    "# conditional prob for season and positive ROI\n",
    "positive_roi_probabilities = {}\n",
    "for season in df['season'].unique():\n",
    "    szn_dat = df[df['season'] == season]\n",
    "    pos_roi = (szn_dat['roi'] > 0).sum()\n",
    "    tot_movies = len(szn_dat)\n",
    "    positive_roi_probabilities[season] = pos_roi / tot_movies\n",
    "\n",
    "# conditional prob for season and negative ROI\n",
    "negative_roi_probabilities = {}\n",
    "for season in df['season'].unique():\n",
    "    szn_dat = df[df['season'] == season]\n",
    "    neg_roi = (szn_dat['roi'] < 0).sum()\n",
    "    total_movies = len(szn_dat)\n",
    "    negative_roi_probabilities[season] = neg_roi / total_movies\n",
    "\n",
    "print(\"Probab of a positive ROI given each season:\")\n",
    "print(positive_roi_probabilities)\n",
    "\n",
    "print(\"\\nProb of a negative ROI given each season:\")\n",
    "print(negative_roi_probabilities)"
   ]
  },
  {
   "cell_type": "markdown",
   "metadata": {},
   "source": [
    "## P(Pos|Runtime)"
   ]
  },
  {
   "cell_type": "code",
   "execution_count": 18,
   "metadata": {},
   "outputs": [],
   "source": [
    "# count the number of movies in each category\n",
    "pos_short = len(runtime[(runtime['runtime_length'] == 'Films less than 40 Minutes') & (runtime['roi'] > 0)])\n",
    "short = len(runtime[runtime['runtime_length'] == 'Films less than 40 Minutes'])\n",
    "                    \n",
    "pos_avg = len(runtime[(runtime['runtime_length'] == 'Films between 40 minutes and 150 minutes') & (runtime['roi'] > 0)])\n",
    "average = len(runtime[runtime['runtime_length'] == 'Films between 40 minutes and 150 minutes'])\n",
    "\n",
    "pos_long = len(runtime[(runtime['runtime_length'] == 'Films longer than 150 minutes') & (runtime['roi'] > 0)])\n",
    "long = len(runtime[runtime['runtime_length'] == 'Films longer than 150 minutes'])\n",
    "\n",
    "\n",
    "# Total number of movies\n",
    "total_movies = len(runtime)"
   ]
  },
  {
   "cell_type": "code",
   "execution_count": 19,
   "metadata": {},
   "outputs": [
    {
     "name": "stdout",
     "output_type": "stream",
     "text": [
      "P(p_positive_roi | p_short): 0.6363636363636364\n",
      "P(p_positive_roi | p_avg): 0.6807297605473204\n",
      "P(p_positive_roi | p_long): 0.75\n"
     ]
    }
   ],
   "source": [
    "#P(Pos|Short)\n",
    "p_given_short = pos_short / short\n",
    "\n",
    "#P(pos|average)\n",
    "p_given_avg = pos_avg / average\n",
    "\n",
    "#P(pos|average)\n",
    "p_given_long = pos_long / long\n",
    "\n",
    "print(\"P(p_positive_roi | p_short):\", p_given_short)\n",
    "print(\"P(p_positive_roi | p_avg):\", p_given_avg)\n",
    "print(\"P(p_positive_roi | p_long):\", p_given_long)"
   ]
  },
  {
   "cell_type": "markdown",
   "metadata": {},
   "source": [
    "## P(Pos|Genre)"
   ]
  },
  {
   "cell_type": "markdown",
   "metadata": {},
   "source": [
    "## P(Pos|Director)"
   ]
  },
  {
   "cell_type": "markdown",
   "metadata": {},
   "source": [
    "### Known Probabilities"
   ]
  },
  {
   "cell_type": "markdown",
   "metadata": {},
   "source": [
    "P(Positive ROI) = 0.6199664429530202\n",
    "P(Negative ROI) = 0.3800335570469799\n",
    "\n",
    "Genre\n",
    "P(Pos|Animation) = 0.83\n",
    "\n",
    "Season\n",
    "P(Pos|Summer) = 0.67\n",
    "\n",
    "Runtime\n",
    "P(Pos|Long) = .64"
   ]
  },
  {
   "cell_type": "code",
   "execution_count": 4,
   "metadata": {},
   "outputs": [
    {
     "name": "stdout",
     "output_type": "stream",
     "text": [
      "P(Pos | Genre & Runtime & Season): 0.22064853691275169\n"
     ]
    }
   ],
   "source": [
    "## Missing Director\n",
    "\n",
    "# probabilities\n",
    "p_positive_roi = 0.6199664429530202\n",
    "p_negative_roi = 0.3800335570469799\n",
    "\n",
    "#highest probabilities\n",
    "pos_animation = 0.83\n",
    "pos_summer = 0.67\n",
    "pos_long = 0.64\n",
    "\n",
    "# Calculate P(Pos | Genre & Runtime & Season)\n",
    "trifecta = pos_animation * pos_long * pos_summer * p_positive_roi\n",
    "\n",
    "print(\"P(Pos | Genre & Runtime & Season):\", trifecta)\n"
   ]
  },
  {
   "cell_type": "code",
   "execution_count": null,
   "metadata": {},
   "outputs": [],
   "source": []
  },
  {
   "cell_type": "code",
   "execution_count": null,
   "metadata": {},
   "outputs": [],
   "source": []
  },
  {
   "cell_type": "code",
   "execution_count": null,
   "metadata": {},
   "outputs": [],
   "source": []
  },
  {
   "cell_type": "code",
   "execution_count": null,
   "metadata": {},
   "outputs": [],
   "source": []
  },
  {
   "cell_type": "code",
   "execution_count": null,
   "metadata": {},
   "outputs": [],
   "source": []
  }
 ],
 "metadata": {
  "kernelspec": {
   "display_name": "Python (learn-env)",
   "language": "python",
   "name": "learn-env"
  },
  "language_info": {
   "codemirror_mode": {
    "name": "ipython",
    "version": 3
   },
   "file_extension": ".py",
   "mimetype": "text/x-python",
   "name": "python",
   "nbconvert_exporter": "python",
   "pygments_lexer": "ipython3",
   "version": "3.8.5"
  }
 },
 "nbformat": 4,
 "nbformat_minor": 4
}
