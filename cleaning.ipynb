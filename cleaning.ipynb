{
 "cells": [
  {
   "cell_type": "code",
   "execution_count": 1,
   "metadata": {},
   "outputs": [],
   "source": [
    "import pandas as pd\n",
    "import numpy as np\n",
    "import sqlite3"
   ]
  },
  {
   "cell_type": "code",
   "execution_count": 2,
   "metadata": {},
   "outputs": [],
   "source": [
    "# connect to db\n",
    "con = sqlite3.connect('data/im.db')"
   ]
  },
  {
   "cell_type": "markdown",
   "metadata": {},
   "source": [
    "# Load in data:"
   ]
  },
  {
   "cell_type": "code",
   "execution_count": 3,
   "metadata": {},
   "outputs": [],
   "source": [
    "# movie_basics\n",
    "basics = pd.read_sql(\"\"\"SELECT * FROM movie_basics \"\"\", con).drop(['start_year'], axis=1)\n",
    "basics.columns = ['movie_id', 'title', 'original_title', 'runtime', 'genres']\n",
    "basics['genres'] = basics['genres'].str.replace(',', ' ')"
   ]
  },
  {
   "cell_type": "code",
   "execution_count": 4,
   "metadata": {},
   "outputs": [],
   "source": [
    "# directors bridge table\n",
    "directors = pd.read_sql(\"\"\" SELECT * FROM directors \"\"\", con)\n",
    "directors = directors.drop_duplicates()\n",
    "\n",
    "# drop movies with multiple directors\n",
    "dirs_grouped = directors.groupby('movie_id').count().sort_values('person_id', ascending=False).reset_index()\n",
    "multiple_dirs = dirs_grouped.query(\" person_id > 1 \")['movie_id'].values\n",
    "dropped_indexes = directors[directors['movie_id'].isin(multiple_dirs)]\n",
    "directors = directors.drop(dropped_indexes.index)"
   ]
  },
  {
   "cell_type": "code",
   "execution_count": 5,
   "metadata": {},
   "outputs": [],
   "source": [
    "# persons table to link directors -> movie_basics\n",
    "persons = pd.read_sql(\"\"\" SELECT * FROM persons \"\"\", con).drop(['birth_year', 'death_year', 'primary_profession'], axis=1)"
   ]
  },
  {
   "cell_type": "code",
   "execution_count": 6,
   "metadata": {},
   "outputs": [],
   "source": [
    "# gross profit data\n",
    "gross = pd.read_csv('data/bom.movie_gross.csv.gz').drop(['year'], axis=1)\n",
    "gross['foreign_gross'] = gross['foreign_gross'].str.replace(',', '').astype(float)"
   ]
  },
  {
   "cell_type": "code",
   "execution_count": 7,
   "metadata": {},
   "outputs": [],
   "source": [
    "# budget/profit data\n",
    "budget = pd.read_csv('data/tn.movie_budgets.csv.gz').drop(['id'], axis=1)\n",
    "budget['month'] = pd.to_datetime(budget['release_date']).dt.month\n",
    "budget.columns = ['release_date', 'title', 'production_budget', 'domestic_gross', 'worldwide_gross', 'month']\n",
    "\n",
    "# cast profit columns to float\n",
    "for col in budget.columns[2:5]:\n",
    "    budget[col] = budget[col].str.replace('[\\$\\,]', '', regex=True).astype(float)"
   ]
  },
  {
   "cell_type": "code",
   "execution_count": 8,
   "metadata": {},
   "outputs": [],
   "source": [
    "# the movie database\n",
    "tmdb = pd.read_csv('data/tmdb.movies.csv.gz', index_col='Unnamed: 0').drop(['id','original_language','original_title'], axis=1)\n",
    "tmdb['genre_ids'] = tmdb['genre_ids'].str.replace('[\\[\\]\\,]', '', regex=True)\n",
    "\n",
    "# map genre_id to genre\n",
    "def map_genres(ids_string, genre_map):\n",
    "    return ' '.join([genre_map[int(genre_id)] for genre_id in ids_string.split() if int(genre_id) in genre_map])\n",
    "\n",
    "genre_map = {28:'Action',16:'Animation',99:'Documentary',18:'Drama',10751:'Family',14:'Fantasy',36:'History',35:'Comedy',\n",
    "             10752:'War',80:'Crime',10402:'Musical',9648:'Mystery',10749:'Romance',878:'Science Fiction',27:'Horror',\n",
    "             10770:'TV movie',53:'Thriller',37:'Western',12:'Adventure'}\n",
    "\n",
    "tmdb['genre_names'] = tmdb['genre_ids'].apply(lambda x: map_genres(x, genre_map))\n",
    "tmdb = tmdb.drop(['genre_ids', 'release_date'], axis=1)"
   ]
  },
  {
   "cell_type": "markdown",
   "metadata": {},
   "source": [
    "# Combine 6 tables:"
   ]
  },
  {
   "cell_type": "code",
   "execution_count": 9,
   "metadata": {},
   "outputs": [],
   "source": [
    "# merge to get directors for each movie title\n",
    "people = persons.merge(directors, on='person_id')\n",
    "merge_1 = basics.merge(people, on='movie_id').drop(['movie_id', 'original_title', 'person_id', 'person_id'], axis=1)"
   ]
  },
  {
   "cell_type": "code",
   "execution_count": 10,
   "metadata": {},
   "outputs": [],
   "source": [
    "# final dataframe\n",
    "merge_2 = merge_1.merge(gross, on='title', how='outer').merge(\n",
    "    tmdb, on='title', how='outer').merge(budget, on='title', how='outer')"
   ]
  },
  {
   "cell_type": "code",
   "execution_count": 11,
   "metadata": {},
   "outputs": [],
   "source": [
    "# calculate ROI\n",
    "merge_2['roi'] = (merge_2['worldwide_gross'] - merge_2['production_budget']) / merge_2['production_budget']"
   ]
  },
  {
   "cell_type": "code",
   "execution_count": 21,
   "metadata": {},
   "outputs": [],
   "source": [
    "# only take movies with cost and profit data\n",
    "final_df = merge_2[merge_2['roi'].notnull()]"
   ]
  },
  {
   "cell_type": "code",
   "execution_count": 22,
   "metadata": {
    "scrolled": false
   },
   "outputs": [],
   "source": [
    "# condense the two genre columns\n",
    "def combine_genres(genre1, genre2):\n",
    "    # ensure the genres are strings, otherwise treat them as empty strings\n",
    "    genre1 = genre1 if isinstance(genre1, str) else ''\n",
    "    genre2 = genre2 if isinstance(genre2, str) else ''\n",
    "    \n",
    "    def replace_word(s, target, replacement):\n",
    "        return ' '.join([replacement if word == target else word for word in s.split()])\n",
    "    \n",
    "    # replace 'Music' with 'Musical'\n",
    "    genre1 = replace_word(genre1, 'Music', 'Musical')\n",
    "    genre2 = replace_word(genre2, 'Music', 'Musical')\n",
    "\n",
    "    # if either 'Science' or 'Fiction' exist, replace them with 'Sci-Fi'\n",
    "    if 'Science' in genre1 or 'Fiction' in genre1:\n",
    "        genre1 = genre1.replace('Science', '').replace('Fiction', 'Sci-Fi')\n",
    "\n",
    "    if 'Science' in genre2 or 'Fiction' in genre2:\n",
    "        genre2 = genre2.replace('Science', '').replace('Fiction', 'Sci-Fi')\n",
    "    \n",
    "    combined = set(genre1.split() + genre2.split())\n",
    "    return ' '.join(combined)\n",
    "\n",
    "final = final_df.copy()\n",
    "final['genre'] = final_df.apply(lambda row: combine_genres(row['genres'], row['genre_names']), axis=1)"
   ]
  },
  {
   "cell_type": "code",
   "execution_count": 23,
   "metadata": {},
   "outputs": [],
   "source": [
    "# remove duplicate rows\n",
    "final = final.drop_duplicates()\n",
    "\n",
    "# remove duplicate titles\n",
    "final = final[final.title.duplicated() == False]\n",
    "\n",
    "# remove movies with no genre\n",
    "final = final[final['genre'] != '']\n",
    "\n",
    "# drop rows with no profit data\n",
    "final = final.drop(final.query(\"worldwide_gross == 0\").index)\n",
    "\n",
    "final = final.drop(['genres','genre_names','foreign_gross','domestic_gross_x', 'domestic_gross_y'], axis=1)"
   ]
  },
  {
   "cell_type": "code",
   "execution_count": 25,
   "metadata": {},
   "outputs": [],
   "source": [
    "final.to_csv('data/final.csv')"
   ]
  },
  {
   "cell_type": "code",
   "execution_count": null,
   "metadata": {},
   "outputs": [],
   "source": []
  }
 ],
 "metadata": {
  "kernelspec": {
   "display_name": "Python (learn-env)",
   "language": "python",
   "name": "learn-env"
  },
  "language_info": {
   "codemirror_mode": {
    "name": "ipython",
    "version": 3
   },
   "file_extension": ".py",
   "mimetype": "text/x-python",
   "name": "python",
   "nbconvert_exporter": "python",
   "pygments_lexer": "ipython3",
   "version": "3.8.5"
  }
 },
 "nbformat": 4,
 "nbformat_minor": 4
}
